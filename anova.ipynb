{
 "cells": [
  {
   "cell_type": "markdown",
   "metadata": {},
   "source": [
    "## Análisis de Varianza"
   ]
  },
  {
   "cell_type": "code",
   "execution_count": null,
   "metadata": {},
   "outputs": [
    {
     "name": "stdout",
     "output_type": "stream",
     "text": [
      "  Tipo de Contenido  interacciones\n",
      "0             video            150\n",
      "1            imagen            120\n",
      "2            enlace            130\n",
      "3             video            160\n",
      "4            imagen            115\n",
      "5            enlace            125\n",
      "6             video            155\n",
      "7            imagen            110\n",
      "8            enlace            140\n"
     ]
    }
   ],
   "source": [
    "import pandas as pd \n",
    "data={\n",
    "    'Tipo de Contenido':['video','imagen','enlace','video','imagen','enlace','video','imagen','enlace'],\n",
    "     'interacciones':[150, 120, 130, 160, 115, 125, 155, 110, 140]\n",
    "\n",
    "}\n",
    "df = pd.DataFrame(data)\n",
    "print(df)\n",
    "\n"
   ]
  },
  {
   "cell_type": "markdown",
   "metadata": {},
   "source": [
    "## Agrupando datos por categoría\n"
   ]
  },
  {
   "cell_type": "code",
   "execution_count": null,
   "metadata": {},
   "outputs": [
    {
     "name": "stdout",
     "output_type": "stream",
     "text": [
      "0    150\n",
      "3    160\n",
      "6    155\n",
      "Name: interacciones, dtype: int64\n"
     ]
    },
    {
     "data": {
      "text/plain": [
       "pandas.core.series.Series"
      ]
     },
     "execution_count": 4,
     "metadata": {},
     "output_type": "execute_result"
    }
   ],
   "source": [
    "video=df[df['Tipo de Contenido']=='video']['interacciones']\n",
    "print(video)\n",
    "type(video)\n",
    "\n"
   ]
  },
  {
   "cell_type": "code",
   "execution_count": 5,
   "metadata": {},
   "outputs": [
    {
     "name": "stdout",
     "output_type": "stream",
     "text": [
      "1    120\n",
      "4    115\n",
      "7    110\n",
      "Name: interacciones, dtype: int64\n",
      "2    130\n",
      "5    125\n",
      "8    140\n",
      "Name: interacciones, dtype: int64\n"
     ]
    }
   ],
   "source": [
    "imagen = df[df['Tipo de Contenido']=='imagen']['interacciones']\n",
    "enlace = df[df['Tipo de Contenido']=='enlace']['interacciones']\n",
    "print(imagen)\n",
    "print(enlace)"
   ]
  },
  {
   "cell_type": "markdown",
   "metadata": {},
   "source": [
    "## Aplicando la Anova"
   ]
  },
  {
   "cell_type": "markdown",
   "metadata": {},
   "source": [
    "## Supuestos para aplicar la ANOVA"
   ]
  },
  {
   "cell_type": "markdown",
   "metadata": {},
   "source": [
    "* Homogenidad de la varianzas\n",
    "* Normalidad de las distribuciones. \n"
   ]
  },
  {
   "cell_type": "code",
   "execution_count": 8,
   "metadata": {},
   "outputs": [
    {
     "name": "stdout",
     "output_type": "stream",
     "text": [
      "Estadístifo F:33.53846153846156\n",
      "Valor p : 0.0005534940953491751\n"
     ]
    }
   ],
   "source": [
    "from scipy import stats\n",
    "f_statistic, p_value = stats.f_oneway(video,imagen, enlace)\n",
    "print(f'Estadístifo F:{f_statistic}')\n",
    "print(f'Valor p : {p_value}')"
   ]
  },
  {
   "cell_type": "markdown",
   "metadata": {},
   "source": [
    "## Interpretación de los resultados"
   ]
  },
  {
   "cell_type": "markdown",
   "metadata": {},
   "source": [
    "La variable estadístico F mide la variabilidad entre los grupos y la variabilidad dentro de los grupos. Un valor F alto indica que hay una mayor variabilidad entre los grupos comparados con la variabilidad dentro de los grupos.  Lo que sugiere una diferencia significativa entre los grupos.  En este caso un valor de 33.5384 es un valor alto sugiere que hay diferencia notable entre los diferentes tipos de contenido.\n",
    "\n",
    "El valor p indica la probabilidad de obtener un resultado al menos tan extremo como el observado, bajo la hipótesis nula de que no hay diferencias reales entre los grupos.  Un valor p vajo menor a 0.5 que es poco probable que las diferencias observadas sean debidas al azar. Para ese caso es 0.0005 es menor al umbral de 0.05  lo que significa que existe un diferencia estadísticamente significativa entre al menos uno de los tipos de contenido. \n"
   ]
  }
 ],
 "metadata": {
  "kernelspec": {
   "display_name": ".venv",
   "language": "python",
   "name": "python3"
  },
  "language_info": {
   "codemirror_mode": {
    "name": "ipython",
    "version": 3
   },
   "file_extension": ".py",
   "mimetype": "text/x-python",
   "name": "python",
   "nbconvert_exporter": "python",
   "pygments_lexer": "ipython3",
   "version": "3.12.1"
  }
 },
 "nbformat": 4,
 "nbformat_minor": 2
}
