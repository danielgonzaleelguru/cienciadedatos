{
 "cells": [
  {
   "cell_type": "markdown",
   "id": "4609df07",
   "metadata": {},
   "source": [
    "# Convirtiendo a UTM"
   ]
  },
  {
   "cell_type": "markdown",
   "id": "71c6f5ad",
   "metadata": {},
   "source": [
    "## Bibliotecas"
   ]
  },
  {
   "cell_type": "code",
   "execution_count": 5,
   "id": "52542a5b",
   "metadata": {},
   "outputs": [],
   "source": [
    "import utm "
   ]
  },
  {
   "cell_type": "code",
   "execution_count": 11,
   "id": "b8478eb7",
   "metadata": {},
   "outputs": [
    {
     "name": "stdout",
     "output_type": "stream",
     "text": [
      "(np.float64(414278.16730997514), np.float64(5316285.595228155), 32, 'T')\n"
     ]
    }
   ],
   "source": [
    "#Rango de latitudes permitidas es: 80S a 84 Norte\n",
    "#Rango de longitudes permitidas es: 180 West a 180 East\n",
    "latitud = 47.9941214\n",
    "longitud=7.8509671\n",
    "\n",
    "utm_coordinates = utm.from_latlon(latitud,longitud)\n",
    "print(utm_coordinates)\n",
    "\n",
    "\n"
   ]
  }
 ],
 "metadata": {
  "kernelspec": {
   "display_name": ".venv",
   "language": "python",
   "name": "python3"
  },
  "language_info": {
   "codemirror_mode": {
    "name": "ipython",
    "version": 3
   },
   "file_extension": ".py",
   "mimetype": "text/x-python",
   "name": "python",
   "nbconvert_exporter": "python",
   "pygments_lexer": "ipython3",
   "version": "3.13.1"
  }
 },
 "nbformat": 4,
 "nbformat_minor": 5
}
