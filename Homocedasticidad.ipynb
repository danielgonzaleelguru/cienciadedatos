{
 "cells": [
  {
   "cell_type": "markdown",
   "metadata": {},
   "source": [
    "## Análisis de la Homocedasticidad y Heterocedasticidad "
   ]
  },
  {
   "cell_type": "markdown",
   "metadata": {},
   "source": [
    "### El objetivo es identificar si existe diferencia entre la varianza del peso de hombres y mujeres."
   ]
  },
  {
   "cell_type": "code",
   "execution_count": 8,
   "metadata": {},
   "outputs": [
    {
     "name": "stdout",
     "output_type": "stream",
     "text": [
      "      height     weight   age  male\n",
      "0    151.765  47.825606  63.0     1\n",
      "1    139.700  36.485807  63.0     0\n",
      "2    136.525  31.864838  65.0     0\n",
      "3    156.845  53.041914  41.0     1\n",
      "4    145.415  41.276872  51.0     0\n",
      "..       ...        ...   ...   ...\n",
      "539  145.415  31.127751  17.0     1\n",
      "540  162.560  52.163080  31.0     1\n",
      "541  156.210  54.062497  21.0     0\n",
      "542   71.120   8.051258   0.0     1\n",
      "543  158.750  52.531624  68.0     1\n",
      "\n",
      "[544 rows x 4 columns]\n"
     ]
    }
   ],
   "source": [
    "import pandas as pd \n",
    "\n",
    "URL = ('https://raw.githubusercontent.com/JoaquinAmatRodrigo/'+\n",
    "'Estadistica-machine-learning-python/master/data/Howell1.csv')\n",
    "\n",
    "datos = pd.read_csv(URL)\n",
    "print(datos)\n"
   ]
  },
  {
   "cell_type": "code",
   "execution_count": 9,
   "metadata": {},
   "outputs": [
    {
     "name": "stdout",
     "output_type": "stream",
     "text": [
      "<class 'pandas.core.frame.DataFrame'>\n",
      "RangeIndex: 544 entries, 0 to 543\n",
      "Data columns (total 4 columns):\n",
      " #   Column  Non-Null Count  Dtype  \n",
      "---  ------  --------------  -----  \n",
      " 0   height  544 non-null    float64\n",
      " 1   weight  544 non-null    float64\n",
      " 2   age     544 non-null    float64\n",
      " 3   male    544 non-null    int64  \n",
      "dtypes: float64(3), int64(1)\n",
      "memory usage: 17.1 KB\n",
      "None\n"
     ]
    }
   ],
   "source": [
    "print(datos.info())"
   ]
  },
  {
   "cell_type": "markdown",
   "metadata": {},
   "source": [
    "## Convirtiendo la columna male a  cadena"
   ]
  },
  {
   "cell_type": "code",
   "execution_count": 12,
   "metadata": {},
   "outputs": [
    {
     "name": "stdout",
     "output_type": "stream",
     "text": [
      "<class 'pandas.core.frame.DataFrame'>\n",
      "RangeIndex: 544 entries, 0 to 543\n",
      "Data columns (total 4 columns):\n",
      " #   Column  Non-Null Count  Dtype  \n",
      "---  ------  --------------  -----  \n",
      " 0   height  544 non-null    float64\n",
      " 1   weight  544 non-null    float64\n",
      " 2   age     544 non-null    float64\n",
      " 3   male    544 non-null    object \n",
      "dtypes: float64(3), object(1)\n",
      "memory usage: 17.1+ KB\n",
      "None\n"
     ]
    }
   ],
   "source": [
    "datos['male']=datos['male'].astype(str)\n",
    "\n",
    "print(datos.info())"
   ]
  },
  {
   "cell_type": "markdown",
   "metadata": {},
   "source": [
    "## Filtrando datos por edades mayor de 15"
   ]
  },
  {
   "cell_type": "code",
   "execution_count": 13,
   "metadata": {},
   "outputs": [
    {
     "name": "stdout",
     "output_type": "stream",
     "text": [
      "      height     weight   age male\n",
      "0    151.765  47.825606  63.0    1\n",
      "1    139.700  36.485807  63.0    0\n",
      "2    136.525  31.864838  65.0    0\n",
      "3    156.845  53.041914  41.0    1\n",
      "4    145.415  41.276872  51.0    0\n",
      "..       ...        ...   ...  ...\n",
      "537  142.875  34.246196  31.0    0\n",
      "539  145.415  31.127751  17.0    1\n",
      "540  162.560  52.163080  31.0    1\n",
      "541  156.210  54.062497  21.0    0\n",
      "543  158.750  52.531624  68.0    1\n",
      "\n",
      "[372 rows x 4 columns]\n"
     ]
    }
   ],
   "source": [
    "datos = datos[(datos.age > 15)]\n",
    "print(datos)"
   ]
  },
  {
   "cell_type": "markdown",
   "metadata": {},
   "source": [
    "### Obteniendo la serie de dato pesos hombres"
   ]
  },
  {
   "cell_type": "code",
   "execution_count": 14,
   "metadata": {},
   "outputs": [
    {
     "name": "stdout",
     "output_type": "stream",
     "text": [
      "0      47.825606\n",
      "3      53.041914\n",
      "5      62.992589\n",
      "7      55.479971\n",
      "9      54.487739\n",
      "         ...    \n",
      "528    47.882306\n",
      "532    41.050076\n",
      "539    31.127751\n",
      "540    52.163080\n",
      "543    52.531624\n",
      "Name: weight, Length: 174, dtype: float64\n"
     ]
    }
   ],
   "source": [
    "pesos_hombres = datos.loc[datos.male=='1','weight']\n",
    "print(pesos_hombres)\n"
   ]
  },
  {
   "cell_type": "markdown",
   "metadata": {},
   "source": [
    "## Obteniendo la serie de datos pesos mujeres"
   ]
  },
  {
   "cell_type": "code",
   "execution_count": 39,
   "metadata": {},
   "outputs": [
    {
     "name": "stdout",
     "output_type": "stream",
     "text": [
      "1      36.485807\n",
      "2      31.864838\n",
      "4      41.276872\n",
      "6      38.243476\n",
      "8      34.869885\n",
      "         ...    \n",
      "529    39.405805\n",
      "533    40.823280\n",
      "534    47.031821\n",
      "537    34.246196\n",
      "541    54.062497\n",
      "Name: weight, Length: 198, dtype: float64\n"
     ]
    }
   ],
   "source": [
    "pesos_mujeres = datos.loc[datos.male=='0','weight']\n",
    "print(pesos_mujeres)"
   ]
  },
  {
   "cell_type": "markdown",
   "metadata": {},
   "source": [
    "## Aplicando la gráfica Violinplot"
   ]
  },
  {
   "cell_type": "code",
   "execution_count": 33,
   "metadata": {},
   "outputs": [
    {
     "data": {
      "text/plain": [
       "Text(0, 0.5, 'Sexo')"
      ]
     },
     "execution_count": 33,
     "metadata": {},
     "output_type": "execute_result"
    },
    {
     "data": {
      "image/png": "[encoded data removed]",
      "text/plain": [
       "<Figure size 700x350 with 1 Axes>"
      ]
     },
     "metadata": {},
     "output_type": "display_data"
    }
   ],
   "source": [
    "import matplotlib.pyplot as plt\n",
    "import seaborn as sns\n",
    "\n",
    "plt.style.use('ggplot')\n",
    "\n",
    "fig, ax = plt.subplots(nrows=1,ncols=1, figsize=(7,3.5))\n",
    "sns.violinplot(\n",
    "    x='weight',\n",
    "    y='male',\n",
    "    data=datos,\n",
    "    hue='male',    \n",
    "    fill=False, \n",
    "    inner=\"quart\",\n",
    "    native_scale=True,\n",
    "    legend='full',\n",
    "    ax =ax\n",
    ")\n",
    "ax.set_title('Distribución de sexo por sexo')\n",
    "ax.set_xlabel('Peso')\n",
    "ax.set_ylabel('Sexo')\n"
   ]
  },
  {
   "cell_type": "markdown",
   "metadata": {},
   "source": [
    "## Graficando con BoxPlot"
   ]
  },
  {
   "cell_type": "code",
   "execution_count": 34,
   "metadata": {},
   "outputs": [
    {
     "data": {
      "text/plain": [
       "Text(0, 0.5, 'Sexo')"
      ]
     },
     "execution_count": 34,
     "metadata": {},
     "output_type": "execute_result"
    },
    {
     "data": {
      "image/png": "[encoded data removed]",
      "text/plain": [
       "<Figure size 700x350 with 1 Axes>"
      ]
     },
     "metadata": {},
     "output_type": "display_data"
    }
   ],
   "source": [
    "fig, ax = plt.subplots(nrows=1, ncols=1, figsize=(7, 3.5))\n",
    "sns.boxplot(\n",
    "  x='weight',\n",
    "  y='male',\n",
    "  data=datos,\n",
    "  legend=True,\n",
    "  hue='male',\n",
    "  ax=ax\n",
    ")\n",
    "ax.set_title(\"Distribución de peso por sexo\")\n",
    "ax.set_xlabel(\"Peso\")\n",
    "ax.set_ylabel(\"Sexo\")"
   ]
  },
  {
   "cell_type": "markdown",
   "metadata": {},
   "source": [
    "## Testiando con métodos estadísticos (Métodos de test de hipótesis para comparar varianzas)"
   ]
  },
  {
   "cell_type": "markdown",
   "metadata": {},
   "source": [
    "La hipótesis nula es que existe  homocedasticidad. Es decir, que los datos proceden de distribuciones con la misma varianza."
   ]
  },
  {
   "cell_type": "markdown",
   "metadata": {},
   "source": [
    "### Test de Levene  (Cuando no sabemos si los datos viene de distribuciones normales)"
   ]
  },
  {
   "cell_type": "code",
   "execution_count": 42,
   "metadata": {},
   "outputs": [
    {
     "data": {
      "text/plain": [
       "LeveneResult(statistic=0.18630521976263306, pvalue=0.6662611053126026)"
      ]
     },
     "execution_count": 42,
     "metadata": {},
     "output_type": "execute_result"
    }
   ],
   "source": [
    "from scipy import stats\n",
    "\n",
    "levene_test= stats.levene(pesos_hombres, pesos_mujeres, center='median')\n",
    "levene_test\n"
   ]
  },
  {
   "cell_type": "markdown",
   "metadata": {},
   "source": [
    "## interpretación de resultados"
   ]
  },
  {
   "cell_type": "markdown",
   "metadata": {},
   "source": [
    "Como el valor de p_value es es menor a 0.05 se rechaza la homocedasticidad\n",
    "Cuando menor sea el estadístico F(Statistic) mas probable es que las medias son iguales"
   ]
  },
  {
   "cell_type": "markdown",
   "metadata": {},
   "source": [
    "### Barlet Test (Datos que  vienen de una distribución normal)"
   ]
  },
  {
   "cell_type": "code",
   "execution_count": 45,
   "metadata": {},
   "outputs": [
    {
     "data": {
      "text/plain": [
       "BartlettResult(statistic=0.8473322751459793, pvalue=0.3573081212488608)"
      ]
     },
     "execution_count": 45,
     "metadata": {},
     "output_type": "execute_result"
    }
   ],
   "source": [
    "barlet_test= stats.bartlett(pesos_hombres, pesos_mujeres)\n",
    "barlet_test"
   ]
  },
  {
   "cell_type": "markdown",
   "metadata": {},
   "source": [
    "### Interpretación de resultados"
   ]
  },
  {
   "cell_type": "markdown",
   "metadata": {},
   "source": [
    "El pvalue es menor que 0.35 es mayor que 0.05 lo cual significa que los datos tienen heterocedasticidad.\n",
    "Cuando menor sea el estadístico F(Statistic) mas probable es que las medias son iguales\n"
   ]
  },
  {
   "cell_type": "markdown",
   "metadata": {},
   "source": [
    "###  Test de Fligner (No paramétrio)"
   ]
  },
  {
   "cell_type": "code",
   "execution_count": 51,
   "metadata": {},
   "outputs": [
    {
     "data": {
      "text/plain": [
       "FlignerResult(statistic=0.1376531343594324, pvalue=0.7106253515287645)"
      ]
     },
     "execution_count": 51,
     "metadata": {},
     "output_type": "execute_result"
    }
   ],
   "source": [
    "test_fligner= stats.fligner(pesos_hombres,pesos_mujeres,center='median')\n",
    "test_fligner"
   ]
  },
  {
   "cell_type": "markdown",
   "metadata": {},
   "source": [
    "### Interpretación de resultados"
   ]
  },
  {
   "cell_type": "markdown",
   "metadata": {},
   "source": [
    "Como el p-value es mayor que 0.7 que 0.05 entonces exite heterocedasticidad en los datos.\n",
    "Cuando menor sea el estadístico F(Statistic) mas probable es que las medias son iguales"
   ]
  }
 ],
 "metadata": {
  "kernelspec": {
   "display_name": ".venv",
   "language": "python",
   "name": "python3"
  },
  "language_info": {
   "codemirror_mode": {
    "name": "ipython",
    "version": 3
   },
   "file_extension": ".py",
   "mimetype": "text/x-python",
   "name": "python",
   "nbconvert_exporter": "python",
   "pygments_lexer": "ipython3",
   "version": "3.12.1"
  }
 },
 "nbformat": 4,
 "nbformat_minor": 2
}
