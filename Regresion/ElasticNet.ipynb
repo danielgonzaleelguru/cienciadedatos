{
 "cells": [
  {
   "cell_type": "markdown",
   "metadata": {},
   "source": [
    "## Regresión Elastic Net"
   ]
  },
  {
   "cell_type": "markdown",
   "metadata": {},
   "source": [
    "Combina la Regresion Lasso y Ridge, es decir, combina los termino de penalización de estas dos regresiones. Este algoritmo balancea tres objetivos: Miniza los errores de predicción, conversa el tamaño de los coeficientes pequeños(Lasso) y previene \n"
   ]
  },
  {
   "cell_type": "markdown",
   "metadata": {},
   "source": [
    "### Objetivo del problema"
   ]
  },
  {
   "cell_type": "markdown",
   "metadata": {},
   "source": [
    "Predecir número de golfistas que visitaran un día el campo. Usando datos \n",
    "como el clima, la temperatura, humedad y condiciones del viento."
   ]
  },
  {
   "cell_type": "markdown",
   "metadata": {},
   "source": [
    "#### Paso 1"
   ]
  },
  {
   "cell_type": "markdown",
   "metadata": {},
   "source": [
    "Estandarizar variables númericas pues cada una esta en escala diferentes. También, se debe transformar variables categóricas a numéricas "
   ]
  }
 ],
 "metadata": {
  "language_info": {
   "name": "python"
  }
 },
 "nbformat": 4,
 "nbformat_minor": 2
}
