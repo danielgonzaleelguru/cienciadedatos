{
 "cells": [
  {
   "cell_type": "markdown",
   "metadata": {},
   "source": [
    "## Regresión Elastic Net"
   ]
  },
  {
   "cell_type": "markdown",
   "metadata": {},
   "source": [
    "Combina la Regresion Lasso y Ridge, es decir, combina los termino de penalización de estas dos regresiones. Este algoritmo balancea tres objetivos: Miniza los errores de predicción, conversa el tamaño de los coeficientes pequeños(Lasso) y previene \n"
   ]
  },
  {
   "cell_type": "markdown",
   "metadata": {},
   "source": [
    "### Objetivo del problema"
   ]
  },
  {
   "cell_type": "markdown",
   "metadata": {},
   "source": [
    "Predecir número de golfistas que visitaran un día el campo. Usando datos \n",
    "como el clima, la temperatura, humedad y condiciones del viento."
   ]
  },
  {
   "cell_type": "markdown",
   "metadata": {},
   "source": [
    "#### Paso 1"
   ]
  },
  {
   "cell_type": "markdown",
   "metadata": {},
   "source": [
    "Estandarizar variables númericas pues cada una esta en escala diferentes. También, se debe transformar variables categóricas a numéricas "
   ]
  },
  {
   "cell_type": "code",
   "execution_count": 2,
   "metadata": {},
   "outputs": [
    {
     "name": "stdout",
     "output_type": "stream",
     "text": [
      "    Temperature  Humidity   Wind  Num_Players  Outlook_overcast  Outlook_rain  \\\n",
      "0            85        85  False           52             False         False   \n",
      "1            80        90   True           39             False         False   \n",
      "2            83        78  False           43              True         False   \n",
      "3            70        96  False           37             False          True   \n",
      "4            68        80  False           28             False          True   \n",
      "5            65        70   True           19             False          True   \n",
      "6            64        65   True           43              True         False   \n",
      "7            72        95  False           47             False         False   \n",
      "8            69        70  False           56             False         False   \n",
      "9            75        80  False           33             False          True   \n",
      "10           75        70   True           49             False         False   \n",
      "11           72        90   True           23              True         False   \n",
      "12           81        75  False           42              True         False   \n",
      "13           71        80   True           13             False          True   \n",
      "14           81        88   True           33             False         False   \n",
      "15           74        92  False           29              True         False   \n",
      "16           76        85  False           25             False          True   \n",
      "17           78        75   True           51             False         False   \n",
      "18           82        92  False           41             False         False   \n",
      "19           67        90   True           14             False          True   \n",
      "20           85        85   True           34              True         False   \n",
      "21           73        88  False           29             False          True   \n",
      "22           88        65   True           49             False         False   \n",
      "23           77        70  False           36              True         False   \n",
      "24           79        60  False           57             False         False   \n",
      "25           80        95   True           21              True         False   \n",
      "26           66        70  False           23             False          True   \n",
      "27           84        78  False           41              True         False   \n",
      "\n",
      "    Outlook_sunny  \n",
      "0            True  \n",
      "1            True  \n",
      "2           False  \n",
      "3           False  \n",
      "4           False  \n",
      "5           False  \n",
      "6           False  \n",
      "7            True  \n",
      "8            True  \n",
      "9           False  \n",
      "10           True  \n",
      "11          False  \n",
      "12          False  \n",
      "13          False  \n",
      "14           True  \n",
      "15          False  \n",
      "16          False  \n",
      "17           True  \n",
      "18           True  \n",
      "19          False  \n",
      "20          False  \n",
      "21          False  \n",
      "22           True  \n",
      "23          False  \n",
      "24           True  \n",
      "25          False  \n",
      "26          False  \n",
      "27          False  \n"
     ]
    }
   ],
   "source": [
    "import pandas as pd \n",
    "from  sklearn.model_selection import  train_test_split\n",
    "from  sklearn.preprocessing import StandardScaler\n",
    "from  sklearn.compose import ColumnTransformer \n",
    "\n",
    "data = {\n",
    "    'Outlook': ['sunny', 'sunny', 'overcast', 'rain', 'rain', 'rain', 'overcast', 'sunny', 'sunny', \n",
    "                'rain', 'sunny', 'overcast', 'overcast', 'rain', 'sunny', 'overcast', 'rain', 'sunny', \n",
    "                'sunny', 'rain', 'overcast', 'rain', 'sunny', 'overcast', 'sunny', 'overcast', 'rain', 'overcast'],\n",
    "    'Temperature': [85, 80, 83, 70, 68, 65, 64, 72, 69, 75, 75, 72, 81, 71, 81, 74, 76, 78, 82, \n",
    "                   67, 85, 73, 88, 77, 79, 80, 66, 84],\n",
    "    'Humidity': [85, 90, 78, 96, 80, 70, 65, 95, 70, 80, 70, 90, 75, 80, 88, 92, 85, 75, 92, \n",
    "                 90, 85, 88, 65, 70, 60, 95, 70, 78],\n",
    "    'Wind': [False, True, False, False, False, True, True, False, False, False, True, True, False, \n",
    "             True, True, False, False, True, False, True, True, False, True, False, False, True, False, False],\n",
    "    'Num_Players': [52, 39, 43, 37, 28, 19, 43, 47, 56, 33, 49, 23, 42, 13, 33, 29, 25, 51, 41, \n",
    "                    14, 34, 29, 49, 36, 57, 21, 23, 41]\n",
    "}\n",
    "df = pd.get_dummies(pd.DataFrame(data), columns=['Outlook'])\n",
    "print(df)"
   ]
  },
  {
   "cell_type": "markdown",
   "metadata": {},
   "source": [
    "Predecir número de golfistas que visitaran un día el campo. Usando datos \n",
    "como el clima, la temperatura, humedad y condiciones del viento."
   ]
  },
  {
   "cell_type": "code",
   "execution_count": 12,
   "metadata": {},
   "outputs": [
    {
     "data": {
      "text/plain": [
       "Index(['Temperature', 'Humidity', 'Wind', 'Num_Players', 'Outlook_overcast',\n",
       "       'Outlook_rain', 'Outlook_sunny'],\n",
       "      dtype='object')"
      ]
     },
     "execution_count": 12,
     "metadata": {},
     "output_type": "execute_result"
    }
   ],
   "source": [
    "df.columns"
   ]
  }
 ],
 "metadata": {
  "kernelspec": {
   "display_name": ".venv",
   "language": "python",
   "name": "python3"
  },
  "language_info": {
   "codemirror_mode": {
    "name": "ipython",
    "version": 3
   },
   "file_extension": ".py",
   "mimetype": "text/x-python",
   "name": "python",
   "nbconvert_exporter": "python",
   "pygments_lexer": "ipython3",
   "version": "3.12.4"
  }
 },
 "nbformat": 4,
 "nbformat_minor": 2
}
