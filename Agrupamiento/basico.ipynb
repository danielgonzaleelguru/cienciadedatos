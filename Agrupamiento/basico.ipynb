{
 "cells": [
  {
   "cell_type": "markdown",
   "id": "2b5d2f60",
   "metadata": {},
   "source": [
    "# Arboles de decisión"
   ]
  },
  {
   "cell_type": "markdown",
   "id": "c8200971",
   "metadata": {},
   "source": [
    "Según [1] un arbol de decisión es un algoritmo de aprendizaje supervisado no paramétrico, que se utiliza tanto para tareas de clasificación como de regresión. Tiene una estructura jerárquica de árbol, que consta de un nodo raíz, ramas, nodos internos y nodos hoja.Como puede ver en el siguiente diagrama, un árbol de decisión comienza con un nodo raíz, que no tiene ninguna rama entrante. Las ramas salientes del nodo raíz luego alimentan los nodos internos, también conocidos como nodos de decisión."
   ]
  },
  {
   "cell_type": "markdown",
   "id": "d6831bc7",
   "metadata": {},
   "source": []
  }
 ],
 "metadata": {
  "language_info": {
   "name": "python"
  }
 },
 "nbformat": 4,
 "nbformat_minor": 5
}
