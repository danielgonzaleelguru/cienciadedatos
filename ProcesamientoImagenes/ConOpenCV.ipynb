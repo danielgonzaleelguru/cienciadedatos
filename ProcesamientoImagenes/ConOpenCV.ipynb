{
 "cells": [
  {
   "cell_type": "markdown",
   "metadata": {},
   "source": [
    "## Open CV Taller 1"
   ]
  },
  {
   "cell_type": "markdown",
   "metadata": {},
   "source": [
    "## Bibliotecas"
   ]
  },
  {
   "cell_type": "code",
   "execution_count": 6,
   "metadata": {},
   "outputs": [],
   "source": [
    "import skimage as ski\n",
    "import cv2\n",
    "import numpy  as np"
   ]
  },
  {
   "cell_type": "code",
   "execution_count": 7,
   "metadata": {},
   "outputs": [],
   "source": [
    "camera = ski.data.camera()"
   ]
  },
  {
   "cell_type": "code",
   "execution_count": 8,
   "metadata": {},
   "outputs": [
    {
     "name": "stdout",
     "output_type": "stream",
     "text": [
      "OpenCV is installed and working correctly!\n",
      "[143 143 148]\n"
     ]
    }
   ],
   "source": [
    "\n",
    "img = cv2.imread(\"C:\\\\Users\\\\User\\\\Pictures\\\\cedula_daniel.png\",1)\n",
    "\n",
    "\n",
    "if img is None:\n",
    "    print(\"Image not loaded correctly!\")    \n",
    "else:\n",
    "    print(\"OpenCV is installed and working correctly!\")\n",
    "    print(img[20,20])\n",
    "    blue, green, red = cv2.split(img)\n",
    "    #print(img.shape)\n",
    "    #print(img.dtype)\n",
    "    cv2.imshow(\"cuadro\",img)\n",
    "    cv2.waitKey(0)\n",
    "    cv2.destroyAllWindows()"
   ]
  },
  {
   "cell_type": "code",
   "execution_count": null,
   "metadata": {},
   "outputs": [
    {
     "ename": "",
     "evalue": "",
     "output_type": "error",
     "traceback": [
      "\u001b[1;31mThe Kernel crashed while executing code in the current cell or a previous cell. \n",
      "\u001b[1;31mPlease review the code in the cell(s) to identify a possible cause of the failure. \n",
      "\u001b[1;31mClick <a href='https://aka.ms/vscodeJupyterKernelCrash'>here</a> for more info. \n",
      "\u001b[1;31mView Jupyter <a href='command:jupyter.viewOutput'>log</a> for further details."
     ]
    }
   ],
   "source": [
    "blank = np.zeros(img.shape[:2], dtype='uint8')\n",
    "\n",
    "center_coordinates = (144, 233)\n",
    "\n",
    "radius = 10\n",
    "\n",
    "mask = cv2.circle(blank, center_coordinates, radius, 255, -1)\n",
    "\n",
    "masked = cv2.bitwise_and(img, img, mask=mask)\n",
    "cv2.imshow('Output', masked)"
   ]
  },
  {
   "cell_type": "code",
   "execution_count": 4,
   "metadata": {},
   "outputs": [
    {
     "name": "stdout",
     "output_type": "stream",
     "text": [
      "[[0 0 0 0]\n",
      " [0 0 0 0]]\n"
     ]
    }
   ],
   "source": [
    "matriz=[[0,0,0,0],[0,0,0,0]]\n",
    "img = numpy.array(matriz)\n",
    "print(img)\n",
    "\n",
    "img=numpy.zeros((300,300),numpy.uint8)\n",
    "cv2.imshow(\"Imagen Negra\",img)\n",
    "cv2.waitKey(0)\n",
    "cv2.destroyAllWindows()"
   ]
  },
  {
   "cell_type": "code",
   "execution_count": 5,
   "metadata": {},
   "outputs": [
    {
     "name": "stdout",
     "output_type": "stream",
     "text": [
      "[143 143 148]\n"
     ]
    }
   ],
   "source": [
    "img=numpy.ones((200,200,3),numpy.uint8)*255\n",
    "img[:]=(143 ,143,148)\n",
    "print(img[50,50])\n",
    "for x in range(200):\n",
    "    for y in range(200):\n",
    "        if x%50==0 or y%50==0:\n",
    "            img[x,y]=(145,0,143)\n",
    "            \n",
    "cv2.imwrite(\"rejilla.png\",img)\n",
    "cv2.imshow(\"White Image\",img)\n",
    "cv2.waitKey(0)\n",
    "cv2.destroyAllWindows()"
   ]
  }
 ],
 "metadata": {
  "kernelspec": {
   "display_name": ".venv",
   "language": "python",
   "name": "python3"
  },
  "language_info": {
   "codemirror_mode": {
    "name": "ipython",
    "version": 3
   },
   "file_extension": ".py",
   "mimetype": "text/x-python",
   "name": "python",
   "nbconvert_exporter": "python",
   "pygments_lexer": "ipython3",
   "version": "3.13.1"
  }
 },
 "nbformat": 4,
 "nbformat_minor": 2
}
