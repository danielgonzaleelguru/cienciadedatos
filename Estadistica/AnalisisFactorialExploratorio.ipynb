{
 "cells": [
  {
   "cell_type": "markdown",
   "metadata": {},
   "source": [
    "# Análisis Factorial Exploratorio y Confirmatorio "
   ]
  },
  {
   "cell_type": "markdown",
   "metadata": {},
   "source": [
    "<p>Según Gemini(IA) el análisis factorial exploratorio(EFA)  es una técnica que permite encontrar estructuras entre un conjunto de atributos. Al final de la aplicación de esta\n",
    "técnica se genera una matriz de pesos o factores que describen la relaciones subyacentes entre cada una de las variables. \n",
    "Algunas aplicaciones de esta técnica son:</p>\n",
    "<ol>\n",
    "<li>Reduce el número de variables.</li>\n",
    "<li>Agrupa variables con características similares.</li>\n",
    "<li>Se aplica en la investigación social, en la investigación de mercados, publicidad, psicología, finanzas e investigaciones de operaciones. </li>\n",
    "<li>Se han utilizado para validar indices como lo evidencia<a href=\"https://www.sciencedirect.com/science/article/abs/pii/S1470160X16305945?getft_integrator=scopus&pes=vor&utm_source=scopus\"> Días, Jose G</a>\n",
    "\n",
    "</li>\n",
    "</ol>\n",
    "\n",
    "## Análisis Confirmatorio de Datos(CFA):\n",
    "<p>Sirve para testear o probar relaciones entre variables observadas. En esta técnica el investigador especifica un patrón experado  y contracta los datos con este patrón. </p>\n"
   ]
  },
  {
   "cell_type": "markdown",
   "metadata": {},
   "source": [
    "## Bibliotecas"
   ]
  },
  {
   "cell_type": "code",
   "execution_count": 2,
   "metadata": {},
   "outputs": [],
   "source": [
    "import pandas \n",
    "from factor_analyzer import FactorAnalyzer\n",
    "from factor_analyzer import (ConfirmatoryFactorAnalyzer,ModelSpecificationParser)"
   ]
  }
 ],
 "metadata": {
  "kernelspec": {
   "display_name": ".venv",
   "language": "python",
   "name": "python3"
  },
  "language_info": {
   "codemirror_mode": {
    "name": "ipython",
    "version": 3
   },
   "file_extension": ".py",
   "mimetype": "text/x-python",
   "name": "python",
   "nbconvert_exporter": "python",
   "pygments_lexer": "ipython3",
   "version": "3.13.1"
  }
 },
 "nbformat": 4,
 "nbformat_minor": 2
}
