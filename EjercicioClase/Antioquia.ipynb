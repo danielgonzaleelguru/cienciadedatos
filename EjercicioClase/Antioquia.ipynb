{
 "cells": [
  {
   "cell_type": "markdown",
   "metadata": {},
   "source": [
    "## Analisis de datos Deportivos de Antioquía."
   ]
  },
  {
   "cell_type": "code",
   "execution_count": 1,
   "metadata": {},
   "outputs": [
    {
     "data": {
      "text/html": [
       "<div>\n",
       "<style scoped>\n",
       "    .dataframe tbody tr th:only-of-type {\n",
       "        vertical-align: middle;\n",
       "    }\n",
       "\n",
       "    .dataframe tbody tr th {\n",
       "        vertical-align: top;\n",
       "    }\n",
       "\n",
       "    .dataframe thead th {\n",
       "        text-align: right;\n",
       "    }\n",
       "</style>\n",
       "<table border=\"1\" class=\"dataframe\">\n",
       "  <thead>\n",
       "    <tr style=\"text-align: right;\">\n",
       "      <th></th>\n",
       "      <th>Tipo de escenario,Corregimiento o comuna,VeredaBarrio,Nombre barrio o vereda,Nombre escenario deportivo,Dirección,Longitud,latitud,georeferenciacion</th>\n",
       "    </tr>\n",
       "  </thead>\n",
       "  <tbody>\n",
       "    <tr>\n",
       "      <th>0</th>\n",
       "      <td>Gimnasio,Comuna 1 Liborio Mejía,Barrio,laurele...</td>\n",
       "    </tr>\n",
       "    <tr>\n",
       "      <th>1</th>\n",
       "      <td>Cancha de fútbol arena,Corregimiento Norte o N...</td>\n",
       "    </tr>\n",
       "    <tr>\n",
       "      <th>2</th>\n",
       "      <td>Gimnasio al aire libre,Corregimiento Norte o N...</td>\n",
       "    </tr>\n",
       "    <tr>\n",
       "      <th>3</th>\n",
       "      <td>Gimnasio al aire libre,Comuna 3 Monseñor Alfon...</td>\n",
       "    </tr>\n",
       "    <tr>\n",
       "      <th>4</th>\n",
       "      <td>Placa Polideportiva,Corregimiento Centro o Cas...</td>\n",
       "    </tr>\n",
       "    <tr>\n",
       "      <th>...</th>\n",
       "      <td>...</td>\n",
       "    </tr>\n",
       "    <tr>\n",
       "      <th>183</th>\n",
       "      <td>Placa Polideportiva,Comuna 4 El Porvenir,Barri...</td>\n",
       "    </tr>\n",
       "    <tr>\n",
       "      <th>184</th>\n",
       "      <td>Parques infantiles,Comuna 4 El Porvenir,Barrio...</td>\n",
       "    </tr>\n",
       "    <tr>\n",
       "      <th>185</th>\n",
       "      <td>Gimnasio al aire libre,Comuna 4 El Porvenir,Ba...</td>\n",
       "    </tr>\n",
       "    <tr>\n",
       "      <th>186</th>\n",
       "      <td>Placa Polideportiva,Comuna 4 El Porvenir,Barri...</td>\n",
       "    </tr>\n",
       "    <tr>\n",
       "      <th>187</th>\n",
       "      <td>Placa Polideportiva,Comuna 4 El Porvenir,Barri...</td>\n",
       "    </tr>\n",
       "  </tbody>\n",
       "</table>\n",
       "<p>188 rows × 1 columns</p>\n",
       "</div>"
      ],
      "text/plain": [
       "    Tipo de escenario,Corregimiento o comuna,VeredaBarrio,Nombre barrio o vereda,Nombre escenario deportivo,Dirección,Longitud,latitud,georeferenciacion\n",
       "0    Gimnasio,Comuna 1 Liborio Mejía,Barrio,laurele...                                                                                                  \n",
       "1    Cancha de fútbol arena,Corregimiento Norte o N...                                                                                                  \n",
       "2    Gimnasio al aire libre,Corregimiento Norte o N...                                                                                                  \n",
       "3    Gimnasio al aire libre,Comuna 3 Monseñor Alfon...                                                                                                  \n",
       "4    Placa Polideportiva,Corregimiento Centro o Cas...                                                                                                  \n",
       "..                                                 ...                                                                                                  \n",
       "183  Placa Polideportiva,Comuna 4 El Porvenir,Barri...                                                                                                  \n",
       "184  Parques infantiles,Comuna 4 El Porvenir,Barrio...                                                                                                  \n",
       "185  Gimnasio al aire libre,Comuna 4 El Porvenir,Ba...                                                                                                  \n",
       "186  Placa Polideportiva,Comuna 4 El Porvenir,Barri...                                                                                                  \n",
       "187  Placa Polideportiva,Comuna 4 El Porvenir,Barri...                                                                                                  \n",
       "\n",
       "[188 rows x 1 columns]"
      ]
     },
     "metadata": {},
     "output_type": "display_data"
    }
   ],
   "source": [
    "import pandas as pd\n",
    "\n",
    "df = pd.read_csv(\"data.csv\",sep='\\t')\n",
    "display(df)\n"
   ]
  },
  {
   "cell_type": "code",
   "execution_count": 9,
   "metadata": {},
   "outputs": [
    {
     "name": "stdout",
     "output_type": "stream",
     "text": [
      "Index(['gbifID', 'datasetKey', 'occurrenceID', 'kingdom', 'phylum', 'class',\n",
      "       'order', 'family', 'genus', 'species', 'infraspecificEpithet',\n",
      "       'taxonRank', 'scientificName', 'verbatimScientificName',\n",
      "       'verbatimScientificNameAuthorship', 'countryCode', 'locality',\n",
      "       'stateProvince', 'occurrenceStatus', 'individualCount',\n",
      "       'publishingOrgKey', 'decimalLatitude', 'decimalLongitude',\n",
      "       'coordinateUncertaintyInMeters', 'coordinatePrecision', 'elevation',\n",
      "       'elevationAccuracy', 'depth', 'depthAccuracy', 'eventDate', 'day',\n",
      "       'month', 'year', 'taxonKey', 'speciesKey', 'basisOfRecord',\n",
      "       'institutionCode', 'collectionCode', 'catalogNumber', 'recordNumber',\n",
      "       'identifiedBy', 'dateIdentified', 'license', 'rightsHolder',\n",
      "       'recordedBy', 'typeStatus', 'establishmentMeans', 'lastInterpreted',\n",
      "       'mediaType', 'issue'],\n",
      "      dtype='object')\n"
     ]
    }
   ],
   "source": [
    "print(df.columns)"
   ]
  },
  {
   "cell_type": "code",
   "execution_count": 10,
   "metadata": {},
   "outputs": [
    {
     "data": {
      "text/plain": [
       "0                                              BOLD:AAD9467\n",
       "1                                              BOLD:ABX4220\n",
       "2                                              BOLD:AAF1635\n",
       "3                                              BOLD:AAZ3171\n",
       "4                                              BOLD:ABX1250\n",
       "                                 ...                       \n",
       "1701203                Chlorostilbon gibsoni (Fraser, 1840)\n",
       "1701204          Parkesia noveboracensis (J.F.Gmelin, 1789)\n",
       "1701205        Microcerculus marginatus (P.L.Sclater, 1855)\n",
       "1701206    Campylopterus phainopeplus Salvin & Godman, 1879\n",
       "1701207                Phaethornis striigularis Gould, 1854\n",
       "Name: scientificName, Length: 1701208, dtype: object"
      ]
     },
     "metadata": {},
     "output_type": "display_data"
    }
   ],
   "source": [
    "S= df['scientificName']\n",
    "display(S)"
   ]
  },
  {
   "cell_type": "markdown",
   "metadata": {},
   "source": [
    "Extrayendo datos"
   ]
  },
  {
   "cell_type": "code",
   "execution_count": 11,
   "metadata": {},
   "outputs": [
    {
     "data": {
      "text/plain": [
       "gbifID                                                                     2250603942\n",
       "datasetKey                                       040c5662-da76-4782-a48e-cdea1892d14c\n",
       "occurrenceID                                                              IAVHB090-13\n",
       "kingdom                                                                      Animalia\n",
       "phylum                                                                       Chordata\n",
       "class                                                                            Aves\n",
       "order                                                                     Apodiformes\n",
       "family                                                                    Trochilidae\n",
       "genus                                                                  Anthracothorax\n",
       "species                                                    Anthracothorax nigricollis\n",
       "infraspecificEpithet                                                              NaN\n",
       "taxonRank                                                                    UNRANKED\n",
       "scientificName                                                           BOLD:AAF1635\n",
       "verbatimScientificName                                                   BOLD:AAF1635\n",
       "verbatimScientificNameAuthorship                                                  NaN\n",
       "countryCode                                                                        CO\n",
       "locality                            Cgto. El Canito, Monte de Los Navas. Segunda e...\n",
       "stateProvince                                                                   Sucre\n",
       "occurrenceStatus                                                              PRESENT\n",
       "individualCount                                                                   NaN\n",
       "publishingOrgKey                                 b3bf3a83-1f68-4541-a03f-330d30d567f5\n",
       "decimalLatitude                                                                 9.578\n",
       "decimalLongitude                                                              -74.539\n",
       "coordinateUncertaintyInMeters                                                     NaN\n",
       "coordinatePrecision                                                               NaN\n",
       "elevation                                                                        40.0\n",
       "elevationAccuracy                                                                 0.0\n",
       "depth                                                                             NaN\n",
       "depthAccuracy                                                                     NaN\n",
       "eventDate                                                                  2009-05-13\n",
       "day                                                                              13.0\n",
       "month                                                                             5.0\n",
       "year                                                                           2009.0\n",
       "taxonKey                                                                     10033487\n",
       "speciesKey                                                                  2476718.0\n",
       "basisOfRecord                                                         MATERIAL_SAMPLE\n",
       "institutionCode                     Instituto de Investigacion de Recursos Biologi...\n",
       "collectionCode                                                                    NaN\n",
       "catalogNumber                                                              IAvH-15257\n",
       "recordNumber                                                                      NaN\n",
       "identifiedBy                                                                      NaN\n",
       "dateIdentified                                                                    NaN\n",
       "license                                                                     CC_BY_4_0\n",
       "rightsHolder                                                                      NaN\n",
       "recordedBy                                                            Ana Maria Umana\n",
       "typeStatus                                                                        NaN\n",
       "establishmentMeans                                                                NaN\n",
       "lastInterpreted                                              2025-02-25T04:35:09.731Z\n",
       "mediaType                                            StillImage;StillImage;StillImage\n",
       "issue                               COUNTRY_DERIVED_FROM_COORDINATES;GEODETIC_DATU...\n",
       "Name: 2, dtype: object"
      ]
     },
     "execution_count": 11,
     "metadata": {},
     "output_type": "execute_result"
    }
   ],
   "source": [
    "df.iloc[2]"
   ]
  },
  {
   "cell_type": "code",
   "execution_count": 13,
   "metadata": {},
   "outputs": [
    {
     "data": {
      "text/html": [
       "<div>\n",
       "<style scoped>\n",
       "    .dataframe tbody tr th:only-of-type {\n",
       "        vertical-align: middle;\n",
       "    }\n",
       "\n",
       "    .dataframe tbody tr th {\n",
       "        vertical-align: top;\n",
       "    }\n",
       "\n",
       "    .dataframe thead th {\n",
       "        text-align: right;\n",
       "    }\n",
       "</style>\n",
       "<table border=\"1\" class=\"dataframe\">\n",
       "  <thead>\n",
       "    <tr style=\"text-align: right;\">\n",
       "      <th></th>\n",
       "      <th>species</th>\n",
       "      <th>genus</th>\n",
       "    </tr>\n",
       "  </thead>\n",
       "  <tbody>\n",
       "    <tr>\n",
       "      <th>0</th>\n",
       "      <td>Aratinga pertinax</td>\n",
       "      <td>Aratinga</td>\n",
       "    </tr>\n",
       "    <tr>\n",
       "      <th>1</th>\n",
       "      <td>Heliomaster longirostris</td>\n",
       "      <td>Heliomaster</td>\n",
       "    </tr>\n",
       "  </tbody>\n",
       "</table>\n",
       "</div>"
      ],
      "text/plain": [
       "                    species        genus\n",
       "0         Aratinga pertinax     Aratinga\n",
       "1  Heliomaster longirostris  Heliomaster"
      ]
     },
     "execution_count": 13,
     "metadata": {},
     "output_type": "execute_result"
    }
   ],
   "source": [
    "df.loc[[0,1],['species','genus']] #filas A,B con columnas W y Y"
   ]
  }
 ],
 "metadata": {
  "kernelspec": {
   "display_name": ".venv",
   "language": "python",
   "name": "python3"
  },
  "language_info": {
   "codemirror_mode": {
    "name": "ipython",
    "version": 3
   },
   "file_extension": ".py",
   "mimetype": "text/x-python",
   "name": "python",
   "nbconvert_exporter": "python",
   "pygments_lexer": "ipython3",
   "version": "3.13.1"
  }
 },
 "nbformat": 4,
 "nbformat_minor": 2
}
