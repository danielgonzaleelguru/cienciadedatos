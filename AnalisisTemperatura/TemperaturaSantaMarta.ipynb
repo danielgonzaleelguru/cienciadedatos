{
 "cells": [
  {
   "cell_type": "markdown",
   "metadata": {},
   "source": [
    "# Análisis de le temperatura de Santa Marta"
   ]
  },
  {
   "cell_type": "markdown",
   "metadata": {},
   "source": [
    "## Lee los datos en Disco  y genera el archivo con el promedio de datos."
   ]
  },
  {
   "cell_type": "markdown",
   "metadata": {},
   "source": [
    "## Bibliotecas utilizadas"
   ]
  },
  {
   "cell_type": "code",
   "execution_count": 21,
   "metadata": {},
   "outputs": [
    {
     "data": {
      "text/plain": [
       "16"
      ]
     },
     "execution_count": 21,
     "metadata": {},
     "output_type": "execute_result"
    }
   ],
   "source": [
    "import rasterio as r\n",
    "import geopandas as gpd\n",
    "import os\n",
    "import fiona as f \n",
    "from  rasterio.plot  import  show\n",
    "from  rasterio.plot  import  show_hist\n",
    "from  rasterio.mask  import  mask\n",
    "from  shapely.geometry import box\n",
    "from fiona.crs import from_epsg\n",
    "import pycrs \n",
    "from multiprocessing import cpu_count\n",
    "\n",
    "cpu_count()\n",
    "\n"
   ]
  },
  {
   "cell_type": "markdown",
   "metadata": {},
   "source": [
    "## Cargando la zona de estudio"
   ]
  },
  {
   "cell_type": "code",
   "execution_count": 22,
   "metadata": {},
   "outputs": [
    {
     "name": "stdout",
     "output_type": "stream",
     "text": [
      "C:\\Users\\User\\Downloads\\TemperaturaZonaEstudio\\\n"
     ]
    }
   ],
   "source": [
    "dir_list = \"C:\\\\Users\\\\User\\\\Downloads\\\\TemperaturaZonaEstudio\\\\\"\n",
    "print(dir_list)\n"
   ]
  },
  {
   "cell_type": "code",
   "execution_count": 23,
   "metadata": {},
   "outputs": [
    {
     "name": "stdout",
     "output_type": "stream",
     "text": [
      "['1983', '1984']\n"
     ]
    }
   ],
   "source": [
    "def FindDirectoryToRead():  \n",
    "    listDirectory=[]       \n",
    "    for root, dirs, files in os.walk(dir_list):\n",
    "        for dir in dirs:\n",
    "            listDirectory.append(dir)\n",
    "    return listDirectory\n",
    "\n",
    "print(FindDirectoryToRead())"
   ]
  },
  {
   "cell_type": "markdown",
   "metadata": {},
   "source": [
    "## Leyendo Imágenes por Año"
   ]
  },
  {
   "cell_type": "code",
   "execution_count": 30,
   "metadata": {},
   "outputs": [],
   "source": [
    "def readRasterDirectory(year):\n",
    "    path=dir_list+\"\\\\\"+year+\"\\\\\"\n",
    "   \n",
    "    sum=0\n",
    "    for root, dirs, files in os.walk(path):\n",
    "        for f in files:            \n",
    "            print(f)        \n",
    "            raster = r.open(path+f)\n",
    "            value1=raster.read(1)[1175,2115]\n",
    "            #print(value1)            \n",
    "            value2=raster.read(1)[1175,2116]\n",
    "            #print(value2)\n",
    "            sum=value1+value2\n",
    "            #print(\"Suma:\"+str(sum))\n",
    "            #show((raster, 1), cmap='terrain')\n",
    "        average=sum/2\n",
    "        print(\"Promedio:\"+str(average))       \n",
    "\n",
    "     "
   ]
  },
  {
   "cell_type": "code",
   "execution_count": null,
   "metadata": {},
   "outputs": [],
   "source": [
    "from concurrent.futures import ThreadPoolExecutor\n",
    "executor = ThreadPoolExecutor(max_workers=2)\n",
    "a = executor.submit(readRasterDirectory('1986')) \n",
    "print(a)\n",
    "\n"
   ]
  },
  {
   "cell_type": "code",
   "execution_count": null,
   "metadata": {},
   "outputs": [],
   "source": [
    "b = executor.submit(readRasterDirectory('1984'))\n",
    "print(b)"
   ]
  }
 ],
 "metadata": {
  "kernelspec": {
   "display_name": ".venv",
   "language": "python",
   "name": "python3"
  },
  "language_info": {
   "codemirror_mode": {
    "name": "ipython",
    "version": 3
   },
   "file_extension": ".py",
   "mimetype": "text/x-python",
   "name": "python",
   "nbconvert_exporter": "python",
   "pygments_lexer": "ipython3",
   "version": "3.13.1"
  }
 },
 "nbformat": 4,
 "nbformat_minor": 2
}
