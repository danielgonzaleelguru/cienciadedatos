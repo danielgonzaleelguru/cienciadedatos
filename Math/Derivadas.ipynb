{
 "cells": [
  {
   "cell_type": "markdown",
   "metadata": {},
   "source": [
    "# Derivadas"
   ]
  },
  {
   "cell_type": "markdown",
   "metadata": {},
   "source": [
    "## Bibliotecas Python"
   ]
  },
  {
   "cell_type": "code",
   "execution_count": null,
   "metadata": {},
   "outputs": [],
   "source": [
    "import sympy as sp"
   ]
  },
  {
   "cell_type": "code",
   "execution_count": 1,
   "metadata": {},
   "outputs": [
    {
     "name": "stdout",
     "output_type": "stream",
     "text": [
      "Para la función:  exp(x)*cos(x)\n",
      "La derivada primera es:  -exp(x)*sin(x) + exp(x)*cos(x)\n"
     ]
    }
   ],
   "source": [
    "\n",
    "x=sp.symbols('x')\n",
    "f_exp=sp.exp(x)*sp.cos(x)\n",
    "d1f_exp=sp.diff(f_exp,x)\n",
    "print('Para la función: ',f_exp)\n",
    "print('La derivada primera es: ',d1f_exp)"
   ]
  },
  {
   "cell_type": "markdown",
   "metadata": {},
   "source": [
    "## Derivada de la derivada"
   ]
  },
  {
   "cell_type": "code",
   "execution_count": 2,
   "metadata": {},
   "outputs": [
    {
     "name": "stdout",
     "output_type": "stream",
     "text": [
      "Expresión que queremos derivar:  x**2 + sin(x)\n",
      "Primera derivada:  2*x + cos(x)\n",
      "Segunda derivada:  2 - sin(x)\n",
      "Tercera derivada:  -cos(x)\n"
     ]
    }
   ],
   "source": [
    "x = sp.symbols('x', real=True)\n",
    "f_exp = sp.sin(x) + x**2\n",
    "print('Expresión que queremos derivar: ',f_exp)\n",
    "print('Primera derivada: ',sp.diff(f_exp,x))\n",
    "print('Segunda derivada: ',sp.diff(f_exp,x,2))\n",
    "print('Tercera derivada: ',sp.diff(f_exp,x,3))\n",
    "# Nota: también se puede usar la siguiente escritura:\n",
    "# print(f_exp.diff(x,3))"
   ]
  },
  {
   "cell_type": "markdown",
   "metadata": {},
   "source": [
    "## Máximos y mínimos "
   ]
  },
  {
   "cell_type": "code",
   "execution_count": 3,
   "metadata": {},
   "outputs": [
    {
     "name": "stdout",
     "output_type": "stream",
     "text": [
      "La sección máxima se alcanza con ángulo:  1.0471975511965979\n"
     ]
    }
   ],
   "source": [
    "\n",
    "# 2. Resolvemos el problema utilizando Sympy\n",
    "x,xn=sp.symbols('x,xn')\n",
    "# Funcion que describe el area de la seccion en funcion del angulo\n",
    "f=4*sp.sin(x)*(1+sp.cos(x))\n",
    "d1f=sp.diff(f,x)\n",
    "d1fn=sp.lambdify(x,d1f)\n",
    "alphamax=sp.solve(d1f)\n",
    "print('La sección máxima se alcanza con ángulo: ',float(alphamax[1]))"
   ]
  }
 ],
 "metadata": {
  "kernelspec": {
   "display_name": ".venv",
   "language": "python",
   "name": "python3"
  },
  "language_info": {
   "codemirror_mode": {
    "name": "ipython",
    "version": 3
   },
   "file_extension": ".py",
   "mimetype": "text/x-python",
   "name": "python",
   "nbconvert_exporter": "python",
   "pygments_lexer": "ipython3",
   "version": "3.13.1"
  }
 },
 "nbformat": 4,
 "nbformat_minor": 2
}
