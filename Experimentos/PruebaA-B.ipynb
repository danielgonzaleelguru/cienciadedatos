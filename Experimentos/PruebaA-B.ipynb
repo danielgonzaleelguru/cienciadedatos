{
 "cells": [
  {
   "cell_type": "markdown",
   "metadata": {},
   "source": [
    "# Prueba A/B"
   ]
  },
  {
   "cell_type": "markdown",
   "metadata": {},
   "source": [
    "<h2>Recomendaciones</h2>\n",
    "<ol>\n",
    "    <li>Tener un buen tamaño de muestra para la prueba. </li>\n",
    "</ol>"
   ]
  },
  {
   "cell_type": "code",
   "execution_count": 6,
   "metadata": {},
   "outputs": [
    {
     "name": "stdout",
     "output_type": "stream",
     "text": [
      "Indicador de la prueba test t -0.102\n",
      "Valor de probabilidad(p)  0.921\n"
     ]
    }
   ],
   "source": [
    "from scipy.stats import ttest_ind\n",
    "\n",
    "group_A = [2.1, 2.5, 3.6, 3.9, 4.1, 4.2]\n",
    "group_B = [2.3, 2.8, 3.2, 3.9, 4.1, 4.4]\n",
    "\n",
    "t, p =ttest_ind(group_A,group_B) #Evalua si tienen medias iguales o diferentes. Esta prueba asumen que los grupos tienen varianza parecida.\n",
    "print(\"Indicador de la prueba test t %.3f\" % t )\n",
    "print(\"Valor de probabilidad(p) % .3f\" %p) #Nos ayuda a rechazar o aceptar la hipótesis nula. Cuando el p-values es inferior a 0.05 se rechaza la <h0.\n",
    "if p<0.05:\n",
    "    print(\"La diferencia entre medias es significativa\")\n",
    "else:\n",
    "    print(\"La difeferencia no es significativa\")\n"
   ]
  }
 ],
 "metadata": {
  "kernelspec": {
   "display_name": ".venv",
   "language": "python",
   "name": "python3"
  },
  "language_info": {
   "codemirror_mode": {
    "name": "ipython",
    "version": 3
   },
   "file_extension": ".py",
   "mimetype": "text/x-python",
   "name": "python",
   "nbconvert_exporter": "python",
   "pygments_lexer": "ipython3",
   "version": "3.13.1"
  }
 },
 "nbformat": 4,
 "nbformat_minor": 2
}
