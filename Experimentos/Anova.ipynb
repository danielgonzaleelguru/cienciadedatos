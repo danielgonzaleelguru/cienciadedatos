{
 "cells": [
  {
   "cell_type": "markdown",
   "metadata": {},
   "source": [
    "# ANDEVA O ANOVA(Análisis de Varianza) de un factor con varios niveles"
   ]
  },
  {
   "cell_type": "markdown",
   "metadata": {},
   "source": [
    "Es funcional para evaluar las diferencias entre tratamientos."
   ]
  },
  {
   "cell_type": "markdown",
   "metadata": {},
   "source": [
    "<h2>Cuando Aplicarla</h2><br>\n",
    "<p>Cuando los grupos se distribuyen normalmente y tienen varianzas iguales. De lo contrario es mejor aplicar la ANOVA DE Welch que controla mejor el error tipo 1.</p>"
   ]
  },
  {
   "cell_type": "markdown",
   "metadata": {},
   "source": [
    "## Importaciones"
   ]
  },
  {
   "cell_type": "code",
   "execution_count": 2,
   "metadata": {},
   "outputs": [],
   "source": [
    "import pandas as pd\n",
    "import numpy as np\n",
    "import pingouin as pg\n",
    "import scipy.stats as stats"
   ]
  },
  {
   "cell_type": "code",
   "execution_count": 5,
   "metadata": {},
   "outputs": [
    {
     "data": {
      "text/html": [
       "<div>\n",
       "<style scoped>\n",
       "    .dataframe tbody tr th:only-of-type {\n",
       "        vertical-align: middle;\n",
       "    }\n",
       "\n",
       "    .dataframe tbody tr th {\n",
       "        vertical-align: top;\n",
       "    }\n",
       "\n",
       "    .dataframe thead th {\n",
       "        text-align: right;\n",
       "    }\n",
       "</style>\n",
       "<table border=\"1\" class=\"dataframe\">\n",
       "  <thead>\n",
       "    <tr style=\"text-align: right;\">\n",
       "      <th></th>\n",
       "      <th>Sujetos</th>\n",
       "      <th>Grupos</th>\n",
       "      <th>Valor</th>\n",
       "    </tr>\n",
       "  </thead>\n",
       "  <tbody>\n",
       "    <tr>\n",
       "      <th>0</th>\n",
       "      <td>1</td>\n",
       "      <td>T1</td>\n",
       "      <td>80.0</td>\n",
       "    </tr>\n",
       "    <tr>\n",
       "      <th>1</th>\n",
       "      <td>2</td>\n",
       "      <td>T1</td>\n",
       "      <td>78.0</td>\n",
       "    </tr>\n",
       "    <tr>\n",
       "      <th>2</th>\n",
       "      <td>3</td>\n",
       "      <td>T1</td>\n",
       "      <td>82.0</td>\n",
       "    </tr>\n",
       "    <tr>\n",
       "      <th>3</th>\n",
       "      <td>4</td>\n",
       "      <td>T2</td>\n",
       "      <td>71.0</td>\n",
       "    </tr>\n",
       "    <tr>\n",
       "      <th>4</th>\n",
       "      <td>5</td>\n",
       "      <td>T2</td>\n",
       "      <td>77.0</td>\n",
       "    </tr>\n",
       "    <tr>\n",
       "      <th>5</th>\n",
       "      <td>6</td>\n",
       "      <td>T2</td>\n",
       "      <td>NaN</td>\n",
       "    </tr>\n",
       "    <tr>\n",
       "      <th>6</th>\n",
       "      <td>7</td>\n",
       "      <td>T3</td>\n",
       "      <td>71.0</td>\n",
       "    </tr>\n",
       "    <tr>\n",
       "      <th>7</th>\n",
       "      <td>8</td>\n",
       "      <td>T3</td>\n",
       "      <td>73.0</td>\n",
       "    </tr>\n",
       "    <tr>\n",
       "      <th>8</th>\n",
       "      <td>9</td>\n",
       "      <td>T3</td>\n",
       "      <td>72.0</td>\n",
       "    </tr>\n",
       "    <tr>\n",
       "      <th>9</th>\n",
       "      <td>10</td>\n",
       "      <td>T4</td>\n",
       "      <td>88.0</td>\n",
       "    </tr>\n",
       "    <tr>\n",
       "      <th>10</th>\n",
       "      <td>11</td>\n",
       "      <td>T4</td>\n",
       "      <td>86.0</td>\n",
       "    </tr>\n",
       "    <tr>\n",
       "      <th>11</th>\n",
       "      <td>12</td>\n",
       "      <td>T4</td>\n",
       "      <td>NaN</td>\n",
       "    </tr>\n",
       "  </tbody>\n",
       "</table>\n",
       "</div>"
      ],
      "text/plain": [
       "    Sujetos Grupos  Valor\n",
       "0         1     T1   80.0\n",
       "1         2     T1   78.0\n",
       "2         3     T1   82.0\n",
       "3         4     T2   71.0\n",
       "4         5     T2   77.0\n",
       "5         6     T2    NaN\n",
       "6         7     T3   71.0\n",
       "7         8     T3   73.0\n",
       "8         9     T3   72.0\n",
       "9        10     T4   88.0\n",
       "10       11     T4   86.0\n",
       "11       12     T4    NaN"
      ]
     },
     "metadata": {},
     "output_type": "display_data"
    }
   ],
   "source": [
    "\n",
    "\n",
    "datosExperimento = pd.DataFrame({\n",
    "    \"Sujetos\":[1,2,3,4,5,6,7,8,9,10,11,12],\n",
    "    \"Grupos\":[\"T1\",\"T1\",\"T1\",\"T2\",\"T2\",\"T2\",\"T3\",\"T3\",\"T3\",\"T4\",\"T4\",\"T4\"],\n",
    "    \"Valor\":[80,78,82,71,77,np.nan,71,73,72,88,86,np.nan]\n",
    "})\n",
    "display(datosExperimento)"
   ]
  },
  {
   "cell_type": "markdown",
   "metadata": {},
   "source": [
    "## Prueba de Normalidad."
   ]
  },
  {
   "cell_type": "code",
   "execution_count": 3,
   "metadata": {},
   "outputs": [
    {
     "name": "stderr",
     "output_type": "stream",
     "text": [
      "c:\\ProyectosPython\\cienciadedatos\\.venv\\Lib\\site-packages\\scipy\\stats\\_axis_nan_policy.py:418: UserWarning: `kurtosistest` p-value may be inaccurate with fewer than 20 observations; only n=10 observations were given.\n",
      "  return hypotest_fun_in(*args, **kwds)\n"
     ]
    },
    {
     "data": {
      "text/html": [
       "<div>\n",
       "<style scoped>\n",
       "    .dataframe tbody tr th:only-of-type {\n",
       "        vertical-align: middle;\n",
       "    }\n",
       "\n",
       "    .dataframe tbody tr th {\n",
       "        vertical-align: top;\n",
       "    }\n",
       "\n",
       "    .dataframe thead th {\n",
       "        text-align: right;\n",
       "    }\n",
       "</style>\n",
       "<table border=\"1\" class=\"dataframe\">\n",
       "  <thead>\n",
       "    <tr style=\"text-align: right;\">\n",
       "      <th></th>\n",
       "      <th>W</th>\n",
       "      <th>pval</th>\n",
       "      <th>normal</th>\n",
       "    </tr>\n",
       "  </thead>\n",
       "  <tbody>\n",
       "    <tr>\n",
       "      <th>Valor</th>\n",
       "      <td>1.210618</td>\n",
       "      <td>0.545906</td>\n",
       "      <td>True</td>\n",
       "    </tr>\n",
       "  </tbody>\n",
       "</table>\n",
       "</div>"
      ],
      "text/plain": [
       "              W      pval  normal\n",
       "Valor  1.210618  0.545906    True"
      ]
     },
     "execution_count": 3,
     "metadata": {},
     "output_type": "execute_result"
    }
   ],
   "source": [
    "pg.normality(datosExperimento['Valor'],method='normaltest')"
   ]
  },
  {
   "cell_type": "markdown",
   "metadata": {},
   "source": [
    "## Prueba de normalidad por grupos"
   ]
  },
  {
   "cell_type": "code",
   "execution_count": 4,
   "metadata": {},
   "outputs": [
    {
     "name": "stdout",
     "output_type": "stream",
     "text": [
      "         W  pval  normal\n",
      "Grupos                  \n",
      "T1     NaN   NaN   False\n",
      "T2     NaN   NaN   False\n",
      "T3     NaN   NaN   False\n",
      "T4     NaN   NaN   False\n"
     ]
    },
    {
     "name": "stderr",
     "output_type": "stream",
     "text": [
      "c:\\ProyectosPython\\cienciadedatos\\.venv\\Lib\\site-packages\\pingouin\\distribution.py:242: UserWarning: Group T1 has less than 4 valid samples. Returning NaN.\n",
      "  warnings.warn(f\"Group {idx} has less than 4 valid samples. Returning NaN.\")\n",
      "c:\\ProyectosPython\\cienciadedatos\\.venv\\Lib\\site-packages\\pingouin\\distribution.py:242: UserWarning: Group T2 has less than 4 valid samples. Returning NaN.\n",
      "  warnings.warn(f\"Group {idx} has less than 4 valid samples. Returning NaN.\")\n",
      "c:\\ProyectosPython\\cienciadedatos\\.venv\\Lib\\site-packages\\pingouin\\distribution.py:242: UserWarning: Group T3 has less than 4 valid samples. Returning NaN.\n",
      "  warnings.warn(f\"Group {idx} has less than 4 valid samples. Returning NaN.\")\n",
      "c:\\ProyectosPython\\cienciadedatos\\.venv\\Lib\\site-packages\\pingouin\\distribution.py:242: UserWarning: Group T4 has less than 4 valid samples. Returning NaN.\n",
      "  warnings.warn(f\"Group {idx} has less than 4 valid samples. Returning NaN.\")\n"
     ]
    }
   ],
   "source": [
    "normality = pg.normality(data=datosExperimento, dv='Valor', group='Grupos')\n",
    "print(normality)"
   ]
  },
  {
   "cell_type": "markdown",
   "metadata": {},
   "source": [
    "## Prueba de Homogenidad de Varianzas"
   ]
  },
  {
   "cell_type": "markdown",
   "metadata": {},
   "source": [
    "Existe homocedasticidad cuando la varianza de el error condicional a las variables explicativas es constante a lo largo de las observaciones."
   ]
  },
  {
   "cell_type": "code",
   "execution_count": 5,
   "metadata": {},
   "outputs": [
    {
     "data": {
      "text/html": [
       "<div>\n",
       "<style scoped>\n",
       "    .dataframe tbody tr th:only-of-type {\n",
       "        vertical-align: middle;\n",
       "    }\n",
       "\n",
       "    .dataframe tbody tr th {\n",
       "        vertical-align: top;\n",
       "    }\n",
       "\n",
       "    .dataframe thead th {\n",
       "        text-align: right;\n",
       "    }\n",
       "</style>\n",
       "<table border=\"1\" class=\"dataframe\">\n",
       "  <thead>\n",
       "    <tr style=\"text-align: right;\">\n",
       "      <th></th>\n",
       "      <th>W</th>\n",
       "      <th>pval</th>\n",
       "      <th>equal_var</th>\n",
       "    </tr>\n",
       "  </thead>\n",
       "  <tbody>\n",
       "    <tr>\n",
       "      <th>levene</th>\n",
       "      <td>NaN</td>\n",
       "      <td>NaN</td>\n",
       "      <td>False</td>\n",
       "    </tr>\n",
       "  </tbody>\n",
       "</table>\n",
       "</div>"
      ],
      "text/plain": [
       "         W  pval  equal_var\n",
       "levene NaN   NaN      False"
      ]
     },
     "execution_count": 5,
     "metadata": {},
     "output_type": "execute_result"
    }
   ],
   "source": [
    "pg.homoscedasticity(datosExperimento, dv=\"Valor\", group=\"Grupos\")"
   ]
  },
  {
   "cell_type": "markdown",
   "metadata": {},
   "source": [
    "<h2>Aplicando el test de Barlett para verificar la homocedasticidad</h2>\n",
    "Recomendado cuando :\n",
    "<ol>\n",
    "<li> Los datos provienen de una distribución normal </li>\n",
    "</ol>"
   ]
  },
  {
   "cell_type": "code",
   "execution_count": 25,
   "metadata": {},
   "outputs": [
    {
     "name": "stdout",
     "output_type": "stream",
     "text": [
      "[71.0 77.0 nan]\n",
      "0.7140593642054714\n",
      "0.39809948626519287\n"
     ]
    }
   ],
   "source": [
    "grupo1=datosExperimento[datosExperimento[\"Grupos\"]==\"T1\"].values[:,2]\n",
    "grupo2=datosExperimento[datosExperimento[\"Grupos\"]==\"T2\"].values[:,2]\n",
    "grupo3=datosExperimento[datosExperimento[\"Grupos\"]==\"T3\"].values[:,2]\n",
    "\n",
    "print(grupo2)\n",
    "stat, p = stats.bartlett(grupo1,grupo3) #Grupo tiene valores nan. Lo que afecta la prueba.\n",
    "print(stat)\n",
    "print(p) #Si el valor de p es menor 0.05 la población no tiene igual varianza.\n",
    "if p<0.05:\n",
    "    print(\"Si el valor de p es menor 0.05 la población no tiene igual varianza\")                    \n"
   ]
  },
  {
   "cell_type": "markdown",
   "metadata": {},
   "source": [
    "## Aplicación de la ANOVA"
   ]
  },
  {
   "cell_type": "code",
   "execution_count": 40,
   "metadata": {},
   "outputs": [
    {
     "name": "stdout",
     "output_type": "stream",
     "text": [
      "SS: Suma de cuadrados\n",
      "DF:Grados de libertad\n",
      "MS: Cuadrados medios\n",
      "F: Valores F\n",
      "p-unc: valores p sin corregir\n",
      "Np2: Tamaños del efecto eta-cuadrado parcial \n"
     ]
    },
    {
     "data": {
      "text/html": [
       "<div>\n",
       "<style scoped>\n",
       "    .dataframe tbody tr th:only-of-type {\n",
       "        vertical-align: middle;\n",
       "    }\n",
       "\n",
       "    .dataframe tbody tr th {\n",
       "        vertical-align: top;\n",
       "    }\n",
       "\n",
       "    .dataframe thead th {\n",
       "        text-align: right;\n",
       "    }\n",
       "</style>\n",
       "<table border=\"1\" class=\"dataframe\">\n",
       "  <thead>\n",
       "    <tr style=\"text-align: right;\">\n",
       "      <th></th>\n",
       "      <th>Source</th>\n",
       "      <th>SS</th>\n",
       "      <th>DF</th>\n",
       "      <th>MS</th>\n",
       "      <th>F</th>\n",
       "      <th>p-unc</th>\n",
       "      <th>np2</th>\n",
       "    </tr>\n",
       "  </thead>\n",
       "  <tbody>\n",
       "    <tr>\n",
       "      <th>0</th>\n",
       "      <td>Grupos</td>\n",
       "      <td>313.6</td>\n",
       "      <td>3</td>\n",
       "      <td>104.533</td>\n",
       "      <td>20.907</td>\n",
       "      <td>0.001</td>\n",
       "      <td>0.913</td>\n",
       "    </tr>\n",
       "    <tr>\n",
       "      <th>1</th>\n",
       "      <td>Within</td>\n",
       "      <td>30.0</td>\n",
       "      <td>6</td>\n",
       "      <td>5.000</td>\n",
       "      <td>NaN</td>\n",
       "      <td>NaN</td>\n",
       "      <td>NaN</td>\n",
       "    </tr>\n",
       "  </tbody>\n",
       "</table>\n",
       "</div>"
      ],
      "text/plain": [
       "   Source     SS  DF       MS       F  p-unc    np2\n",
       "0  Grupos  313.6   3  104.533  20.907  0.001  0.913\n",
       "1  Within   30.0   6    5.000     NaN    NaN    NaN"
      ]
     },
     "execution_count": 40,
     "metadata": {},
     "output_type": "execute_result"
    }
   ],
   "source": [
    "aov =pg.anova(dv='Valor',between='Grupos',data=datosExperimento,detailed=True)\n",
    "print(\"SS: Suma de cuadrados\")\n",
    "print(\"DF:Grados de libertad\")\n",
    "print(\"MS: Cuadrados medios\")\n",
    "print(\"F: Valores F. Representa el ratio de varianza entre los grupos.\")\n",
    "print(\"p-unc: valores p sin corregir.Valor de significancia.Generalmente se compara con 0.05\")\n",
    "print(\"Np2: Tamaños del efecto eta-cuadrado parcial. Indica cual de los grupos afecta el total de la varianza en las pruebas.\")\n",
    "print(\"Error: (Within)\")\n",
    "\n",
    "aov.round(3)\n"
   ]
  },
  {
   "cell_type": "markdown",
   "metadata": {},
   "source": [
    "<p style=\"text-align:left\">Se rechaza la hipótesis nula(H<sub>0</sub>)</p>"
   ]
  },
  {
   "cell_type": "code",
   "execution_count": 1,
   "metadata": {},
   "outputs": [
    {
     "ename": "NameError",
     "evalue": "name 'pg' is not defined",
     "output_type": "error",
     "traceback": [
      "\u001b[1;31m---------------------------------------------------------------------------\u001b[0m",
      "\u001b[1;31mNameError\u001b[0m                                 Traceback (most recent call last)",
      "Cell \u001b[1;32mIn[1], line 1\u001b[0m\n\u001b[1;32m----> 1\u001b[0m \u001b[43mpg\u001b[49m\u001b[38;5;241m.\u001b[39mhomoscedasticity(datosExperimento,dv\u001b[38;5;241m=\u001b[39m\u001b[38;5;124m'\u001b[39m\u001b[38;5;124mValor\u001b[39m\u001b[38;5;124m'\u001b[39m,group\u001b[38;5;241m=\u001b[39m\u001b[38;5;124m'\u001b[39m\u001b[38;5;124mGrupos\u001b[39m\u001b[38;5;124m'\u001b[39m, method\u001b[38;5;241m=\u001b[39m\u001b[38;5;124m\"\u001b[39m\u001b[38;5;124mlevene\u001b[39m\u001b[38;5;124m\"\u001b[39m)\n",
      "\u001b[1;31mNameError\u001b[0m: name 'pg' is not defined"
     ]
    }
   ],
   "source": [
    "pg.homoscedasticity(datosExperimento,dv='Valor',group='Grupos', method=\"levene\")"
   ]
  }
 ],
 "metadata": {
  "kernelspec": {
   "display_name": ".venv",
   "language": "python",
   "name": "python3"
  },
  "language_info": {
   "codemirror_mode": {
    "name": "ipython",
    "version": 3
   },
   "file_extension": ".py",
   "mimetype": "text/x-python",
   "name": "python",
   "nbconvert_exporter": "python",
   "pygments_lexer": "ipython3",
   "version": "3.13.1"
  }
 },
 "nbformat": 4,
 "nbformat_minor": 2
}
