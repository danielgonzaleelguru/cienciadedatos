{
 "cells": [
  {
   "cell_type": "markdown",
   "id": "8e8b7b43",
   "metadata": {},
   "source": [
    "# Cálculo de balance hídrico de una cuenca"
   ]
  },
  {
   "cell_type": "markdown",
   "id": "ef65c85d",
   "metadata": {},
   "source": [
    "<p text-align='center'>P = Q + AET + GW + DS,</p>\n",
    "\n",
    "<p>Donde P es precipitación, Q es escorrentía, AET es evapotranspiración real, GW es el intercambio con el acuífero subterráneo y DS es el cambio en el almacenamiento del suelo</p> "
   ]
  },
  {
   "cell_type": "markdown",
   "id": "ed7b6351",
   "metadata": {},
   "source": []
  }
 ],
 "metadata": {
  "language_info": {
   "name": "python"
  }
 },
 "nbformat": 4,
 "nbformat_minor": 5
}
