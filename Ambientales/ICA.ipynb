{
 "cells": [
  {
   "cell_type": "markdown",
   "metadata": {},
   "source": [
    "## Calculo del ICA para CO y PM10"
   ]
  },
  {
   "cell_type": "markdown",
   "metadata": {},
   "source": [
    "$$ \n",
    "\\int_{a}^{b} x^2 \\,dx\n",
    "\n",
    "$$"
   ]
  },
  {
   "cell_type": "code",
   "execution_count": null,
   "metadata": {},
   "outputs": [],
   "source": [
    "import pandas as pd\n",
    "\n",
    "def calcular_ica(x, contaminante):\n",
    "    rangos = {\n",
    "        \"CO\": [(0, 100, 0, 50),(101, 200, 51, 100), (201, 300, 101, 150), (301, 500, 151, 200) ],\n",
    "        \"PM10\": [(0, 50, 0, 50), (51, 100, 51, 100), (101, 150, 101, 150), (151, 200, 151, 200)]\n",
    "    }\n",
    "\n",
    "    \n",
    "    for r in rangos[contaminante]:\n",
    "        if r[0] <= x <= r[1]:\n",
    "            return ((r[3] - r[2]) / (r[1] - r[0])) * (x - r[0]) + r[2]\n",
    "        \n",
    "    return 200\n",
    "\n",
    "\n",
    "\n",
    "def procesar_excel2(nombre_archivo):\n",
    "    try:\n",
    "        # Cargar el archivo Excel\n",
    "        df = pd.read_excel(nombre_archivo)    \n",
    "        #display(df)\n",
    "        \n",
    "        #print(df.columns)\n",
    "\n",
    "        \n",
    "        #Verificar que las columnas existen\n",
    "        if \"CO\" not  in df.columns or \"PM10\" not in df.columns:\n",
    "            print(\"Error: El archivo debe contener las columnas 'CO' y 'PM10'.\")\n",
    "        else:\n",
    "            df[\"CO\"] = df[\"CO\"].apply(lambda x: calcular_ica(x, \"CO\"))\n",
    "            df[\"ICA_PM10\"] = df[\"PM10\"].apply(lambda x: calcular_ica(x, \"PM10\"))\n",
    "       \n",
    "        \n",
    "        display(df)\n",
    "        \n",
    "    except FileNotFoundError:\n",
    "        print(f\"❌ Error: No se encontró el archivo '{nombre_archivo}'. Verifica la ruta.\")\n",
    "    except Exception as e:\n",
    "        print(f\"⚠ Ocurrió un error inesperado: {e}\")\n",
    "\n",
    "\n",
    "archivo=\"contaminantes2.xlsx \".strip()\n",
    "RuraGeojson=\"E:\\\\Data\\\\GeoJSON\\\\Cai.geojson\"\n",
    "procesar_excel2(archivo)\n"
   ]
  }
 ],
 "metadata": {
  "kernelspec": {
   "display_name": ".venv",
   "language": "python",
   "name": "python3"
  },
  "language_info": {
   "codemirror_mode": {
    "name": "ipython",
    "version": 3
   },
   "file_extension": ".py",
   "mimetype": "text/x-python",
   "name": "python",
   "nbconvert_exporter": "python",
   "pygments_lexer": "ipython3",
   "version": "3.13.1"
  }
 },
 "nbformat": 4,
 "nbformat_minor": 2
}
