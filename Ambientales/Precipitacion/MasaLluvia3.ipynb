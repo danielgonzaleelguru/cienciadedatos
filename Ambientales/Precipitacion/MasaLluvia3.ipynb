{
 "cells": [
  {
   "cell_type": "markdown",
   "id": "ae7a9790",
   "metadata": {},
   "source": [
    "# Cálculo de la Curva de Huff"
   ]
  },
  {
   "cell_type": "markdown",
   "id": "87dd8954",
   "metadata": {},
   "source": [
    "## Bibliotecas"
   ]
  },
  {
   "cell_type": "code",
   "execution_count": 2,
   "id": "16b32f9c",
   "metadata": {},
   "outputs": [],
   "source": [
    "import pandas as pd \n",
    "import numpy as np \n",
    "import matplotlib.pyplot as plt \n",
    "from scipy.interpolate import make_interp_spline\n"
   ]
  },
  {
   "cell_type": "markdown",
   "id": "961b71f1",
   "metadata": {},
   "source": [
    "## Carga del Archivo"
   ]
  },
  {
   "cell_type": "code",
   "execution_count": 3,
   "id": "85bdbabd",
   "metadata": {},
   "outputs": [
    {
     "data": {
      "text/html": [
       "<div>\n",
       "<style scoped>\n",
       "    .dataframe tbody tr th:only-of-type {\n",
       "        vertical-align: middle;\n",
       "    }\n",
       "\n",
       "    .dataframe tbody tr th {\n",
       "        vertical-align: top;\n",
       "    }\n",
       "\n",
       "    .dataframe thead th {\n",
       "        text-align: right;\n",
       "    }\n",
       "</style>\n",
       "<table border=\"1\" class=\"dataframe\">\n",
       "  <thead>\n",
       "    <tr style=\"text-align: right;\">\n",
       "      <th></th>\n",
       "      <th>Fecha</th>\n",
       "      <th>Valor</th>\n",
       "      <th>Duración</th>\n",
       "      <th>Intensidad</th>\n",
       "      <th>Intesidad maxima en 10 minutos</th>\n",
       "      <th>Intensidad maxima por evento</th>\n",
       "      <th>FechaHora</th>\n",
       "      <th>Hora</th>\n",
       "    </tr>\n",
       "  </thead>\n",
       "  <tbody>\n",
       "    <tr>\n",
       "      <th>0</th>\n",
       "      <td>2017-01-01</td>\n",
       "      <td>0.0</td>\n",
       "      <td>NaN</td>\n",
       "      <td>NaN</td>\n",
       "      <td>NaN</td>\n",
       "      <td>NaN</td>\n",
       "      <td>2017-01-01 10:40:00</td>\n",
       "      <td>10</td>\n",
       "    </tr>\n",
       "    <tr>\n",
       "      <th>1</th>\n",
       "      <td>2017-01-01</td>\n",
       "      <td>0.0</td>\n",
       "      <td>NaN</td>\n",
       "      <td>NaN</td>\n",
       "      <td>NaN</td>\n",
       "      <td>NaN</td>\n",
       "      <td>2017-01-01 10:50:00</td>\n",
       "      <td>10</td>\n",
       "    </tr>\n",
       "    <tr>\n",
       "      <th>2</th>\n",
       "      <td>2017-01-01</td>\n",
       "      <td>0.0</td>\n",
       "      <td>NaN</td>\n",
       "      <td>NaN</td>\n",
       "      <td>NaN</td>\n",
       "      <td>NaN</td>\n",
       "      <td>2017-01-01 11:00:00</td>\n",
       "      <td>11</td>\n",
       "    </tr>\n",
       "    <tr>\n",
       "      <th>3</th>\n",
       "      <td>2017-01-01</td>\n",
       "      <td>0.0</td>\n",
       "      <td>NaN</td>\n",
       "      <td>NaN</td>\n",
       "      <td>NaN</td>\n",
       "      <td>NaN</td>\n",
       "      <td>2017-01-01 11:10:00</td>\n",
       "      <td>11</td>\n",
       "    </tr>\n",
       "    <tr>\n",
       "      <th>4</th>\n",
       "      <td>2017-01-01</td>\n",
       "      <td>0.0</td>\n",
       "      <td>NaN</td>\n",
       "      <td>NaN</td>\n",
       "      <td>NaN</td>\n",
       "      <td>NaN</td>\n",
       "      <td>2017-01-01 11:20:00</td>\n",
       "      <td>11</td>\n",
       "    </tr>\n",
       "    <tr>\n",
       "      <th>...</th>\n",
       "      <td>...</td>\n",
       "      <td>...</td>\n",
       "      <td>...</td>\n",
       "      <td>...</td>\n",
       "      <td>...</td>\n",
       "      <td>...</td>\n",
       "      <td>...</td>\n",
       "      <td>...</td>\n",
       "    </tr>\n",
       "    <tr>\n",
       "      <th>199831</th>\n",
       "      <td>2023-03-17</td>\n",
       "      <td>0.0</td>\n",
       "      <td>NaN</td>\n",
       "      <td>NaN</td>\n",
       "      <td>NaN</td>\n",
       "      <td>NaN</td>\n",
       "      <td>2023-03-17 01:10:00</td>\n",
       "      <td>01</td>\n",
       "    </tr>\n",
       "    <tr>\n",
       "      <th>199832</th>\n",
       "      <td>2023-03-17</td>\n",
       "      <td>0.0</td>\n",
       "      <td>NaN</td>\n",
       "      <td>NaN</td>\n",
       "      <td>NaN</td>\n",
       "      <td>NaN</td>\n",
       "      <td>2023-03-17 01:20:00</td>\n",
       "      <td>01</td>\n",
       "    </tr>\n",
       "    <tr>\n",
       "      <th>199833</th>\n",
       "      <td>2023-03-17</td>\n",
       "      <td>0.0</td>\n",
       "      <td>NaN</td>\n",
       "      <td>NaN</td>\n",
       "      <td>NaN</td>\n",
       "      <td>NaN</td>\n",
       "      <td>2023-03-17 01:30:00</td>\n",
       "      <td>01</td>\n",
       "    </tr>\n",
       "    <tr>\n",
       "      <th>199834</th>\n",
       "      <td>2023-03-17</td>\n",
       "      <td>0.0</td>\n",
       "      <td>NaN</td>\n",
       "      <td>NaN</td>\n",
       "      <td>NaN</td>\n",
       "      <td>NaN</td>\n",
       "      <td>2023-03-17 01:40:00</td>\n",
       "      <td>01</td>\n",
       "    </tr>\n",
       "    <tr>\n",
       "      <th>199835</th>\n",
       "      <td>2023-03-17</td>\n",
       "      <td>0.0</td>\n",
       "      <td>NaN</td>\n",
       "      <td>NaN</td>\n",
       "      <td>NaN</td>\n",
       "      <td>NaN</td>\n",
       "      <td>2023-03-17 01:50:00</td>\n",
       "      <td>01</td>\n",
       "    </tr>\n",
       "  </tbody>\n",
       "</table>\n",
       "<p>199836 rows × 8 columns</p>\n",
       "</div>"
      ],
      "text/plain": [
       "             Fecha  Valor  Duración  Intensidad  \\\n",
       "0       2017-01-01    0.0       NaN         NaN   \n",
       "1       2017-01-01    0.0       NaN         NaN   \n",
       "2       2017-01-01    0.0       NaN         NaN   \n",
       "3       2017-01-01    0.0       NaN         NaN   \n",
       "4       2017-01-01    0.0       NaN         NaN   \n",
       "...            ...    ...       ...         ...   \n",
       "199831  2023-03-17    0.0       NaN         NaN   \n",
       "199832  2023-03-17    0.0       NaN         NaN   \n",
       "199833  2023-03-17    0.0       NaN         NaN   \n",
       "199834  2023-03-17    0.0       NaN         NaN   \n",
       "199835  2023-03-17    0.0       NaN         NaN   \n",
       "\n",
       "        Intesidad maxima en 10 minutos  Intensidad maxima por evento  \\\n",
       "0                                  NaN                           NaN   \n",
       "1                                  NaN                           NaN   \n",
       "2                                  NaN                           NaN   \n",
       "3                                  NaN                           NaN   \n",
       "4                                  NaN                           NaN   \n",
       "...                                ...                           ...   \n",
       "199831                             NaN                           NaN   \n",
       "199832                             NaN                           NaN   \n",
       "199833                             NaN                           NaN   \n",
       "199834                             NaN                           NaN   \n",
       "199835                             NaN                           NaN   \n",
       "\n",
       "                 FechaHora Hora  \n",
       "0      2017-01-01 10:40:00   10  \n",
       "1      2017-01-01 10:50:00   10  \n",
       "2      2017-01-01 11:00:00   11  \n",
       "3      2017-01-01 11:10:00   11  \n",
       "4      2017-01-01 11:20:00   11  \n",
       "...                    ...  ...  \n",
       "199831 2023-03-17 01:10:00   01  \n",
       "199832 2023-03-17 01:20:00   01  \n",
       "199833 2023-03-17 01:30:00   01  \n",
       "199834 2023-03-17 01:40:00   01  \n",
       "199835 2023-03-17 01:50:00   01  \n",
       "\n",
       "[199836 rows x 8 columns]"
      ]
     },
     "metadata": {},
     "output_type": "display_data"
    }
   ],
   "source": [
    "df = pd.read_excel(\"EST. 45.xlsx\")\n",
    "df['FechaHora'] = pd.to_datetime(df['Fecha'], errors='coerce')\n",
    "df['Fecha'] = df['FechaHora'].dt.strftime('%Y-%m-%d')\n",
    "df['Hora'] = df['FechaHora'].dt.strftime('%H')\n",
    "display(df)"
   ]
  },
  {
   "cell_type": "markdown",
   "id": "1234dbc8",
   "metadata": {},
   "source": [
    "## Filtrado de Eventos de lluvia con una duración mayor o igual de 5  y menor o igual que 6."
   ]
  },
  {
   "cell_type": "code",
   "execution_count": 5,
   "id": "609ac4ec",
   "metadata": {},
   "outputs": [
    {
     "data": {
      "text/html": [
       "<div>\n",
       "<style scoped>\n",
       "    .dataframe tbody tr th:only-of-type {\n",
       "        vertical-align: middle;\n",
       "    }\n",
       "\n",
       "    .dataframe tbody tr th {\n",
       "        vertical-align: top;\n",
       "    }\n",
       "\n",
       "    .dataframe thead th {\n",
       "        text-align: right;\n",
       "    }\n",
       "</style>\n",
       "<table border=\"1\" class=\"dataframe\">\n",
       "  <thead>\n",
       "    <tr style=\"text-align: right;\">\n",
       "      <th></th>\n",
       "      <th>Fecha</th>\n",
       "      <th>Valor</th>\n",
       "      <th>Duración</th>\n",
       "      <th>Intensidad</th>\n",
       "      <th>Intesidad maxima en 10 minutos</th>\n",
       "      <th>Intensidad maxima por evento</th>\n",
       "      <th>FechaHora</th>\n",
       "      <th>Hora</th>\n",
       "    </tr>\n",
       "  </thead>\n",
       "  <tbody>\n",
       "    <tr>\n",
       "      <th>12153</th>\n",
       "      <td>2017-04-16</td>\n",
       "      <td>0.46</td>\n",
       "      <td>5.333333</td>\n",
       "      <td>1.393125</td>\n",
       "      <td>2.44</td>\n",
       "      <td>2.54</td>\n",
       "      <td>2017-04-16 22:50:00</td>\n",
       "      <td>22</td>\n",
       "    </tr>\n",
       "    <tr>\n",
       "      <th>12154</th>\n",
       "      <td>2017-04-16</td>\n",
       "      <td>0.39</td>\n",
       "      <td>5.333333</td>\n",
       "      <td>1.393125</td>\n",
       "      <td>2.54</td>\n",
       "      <td>2.54</td>\n",
       "      <td>2017-04-16 23:00:00</td>\n",
       "      <td>23</td>\n",
       "    </tr>\n",
       "    <tr>\n",
       "      <th>12155</th>\n",
       "      <td>2017-04-16</td>\n",
       "      <td>0.37</td>\n",
       "      <td>5.333333</td>\n",
       "      <td>1.393125</td>\n",
       "      <td>2.46</td>\n",
       "      <td>2.54</td>\n",
       "      <td>2017-04-16 23:10:00</td>\n",
       "      <td>23</td>\n",
       "    </tr>\n",
       "    <tr>\n",
       "      <th>12156</th>\n",
       "      <td>2017-04-16</td>\n",
       "      <td>0.51</td>\n",
       "      <td>5.333333</td>\n",
       "      <td>1.393125</td>\n",
       "      <td>2.24</td>\n",
       "      <td>2.54</td>\n",
       "      <td>2017-04-16 23:20:00</td>\n",
       "      <td>23</td>\n",
       "    </tr>\n",
       "    <tr>\n",
       "      <th>12157</th>\n",
       "      <td>2017-04-16</td>\n",
       "      <td>0.35</td>\n",
       "      <td>5.333333</td>\n",
       "      <td>1.393125</td>\n",
       "      <td>1.72</td>\n",
       "      <td>2.54</td>\n",
       "      <td>2017-04-16 23:30:00</td>\n",
       "      <td>23</td>\n",
       "    </tr>\n",
       "    <tr>\n",
       "      <th>...</th>\n",
       "      <td>...</td>\n",
       "      <td>...</td>\n",
       "      <td>...</td>\n",
       "      <td>...</td>\n",
       "      <td>...</td>\n",
       "      <td>...</td>\n",
       "      <td>...</td>\n",
       "      <td>...</td>\n",
       "    </tr>\n",
       "    <tr>\n",
       "      <th>70334</th>\n",
       "      <td>2018-09-21</td>\n",
       "      <td>8.29</td>\n",
       "      <td>5.833333</td>\n",
       "      <td>43.983429</td>\n",
       "      <td>46.16</td>\n",
       "      <td>82.60</td>\n",
       "      <td>2018-09-21 11:20:00</td>\n",
       "      <td>11</td>\n",
       "    </tr>\n",
       "    <tr>\n",
       "      <th>70335</th>\n",
       "      <td>2018-09-21</td>\n",
       "      <td>7.51</td>\n",
       "      <td>5.833333</td>\n",
       "      <td>43.983429</td>\n",
       "      <td>46.64</td>\n",
       "      <td>82.60</td>\n",
       "      <td>2018-09-21 11:30:00</td>\n",
       "      <td>11</td>\n",
       "    </tr>\n",
       "    <tr>\n",
       "      <th>70336</th>\n",
       "      <td>2018-09-21</td>\n",
       "      <td>7.28</td>\n",
       "      <td>5.833333</td>\n",
       "      <td>43.983429</td>\n",
       "      <td>61.98</td>\n",
       "      <td>82.60</td>\n",
       "      <td>2018-09-21 11:40:00</td>\n",
       "      <td>11</td>\n",
       "    </tr>\n",
       "    <tr>\n",
       "      <th>70337</th>\n",
       "      <td>2018-09-21</td>\n",
       "      <td>8.53</td>\n",
       "      <td>5.833333</td>\n",
       "      <td>43.983429</td>\n",
       "      <td>47.42</td>\n",
       "      <td>82.60</td>\n",
       "      <td>2018-09-21 11:50:00</td>\n",
       "      <td>11</td>\n",
       "    </tr>\n",
       "    <tr>\n",
       "      <th>70338</th>\n",
       "      <td>2018-09-21</td>\n",
       "      <td>15.18</td>\n",
       "      <td>5.833333</td>\n",
       "      <td>43.983429</td>\n",
       "      <td>39.52</td>\n",
       "      <td>82.60</td>\n",
       "      <td>2018-09-21 12:00:00</td>\n",
       "      <td>12</td>\n",
       "    </tr>\n",
       "  </tbody>\n",
       "</table>\n",
       "<p>161 rows × 8 columns</p>\n",
       "</div>"
      ],
      "text/plain": [
       "            Fecha  Valor  Duración  Intensidad  \\\n",
       "12153  2017-04-16   0.46  5.333333    1.393125   \n",
       "12154  2017-04-16   0.39  5.333333    1.393125   \n",
       "12155  2017-04-16   0.37  5.333333    1.393125   \n",
       "12156  2017-04-16   0.51  5.333333    1.393125   \n",
       "12157  2017-04-16   0.35  5.333333    1.393125   \n",
       "...           ...    ...       ...         ...   \n",
       "70334  2018-09-21   8.29  5.833333   43.983429   \n",
       "70335  2018-09-21   7.51  5.833333   43.983429   \n",
       "70336  2018-09-21   7.28  5.833333   43.983429   \n",
       "70337  2018-09-21   8.53  5.833333   43.983429   \n",
       "70338  2018-09-21  15.18  5.833333   43.983429   \n",
       "\n",
       "       Intesidad maxima en 10 minutos  Intensidad maxima por evento  \\\n",
       "12153                            2.44                          2.54   \n",
       "12154                            2.54                          2.54   \n",
       "12155                            2.46                          2.54   \n",
       "12156                            2.24                          2.54   \n",
       "12157                            1.72                          2.54   \n",
       "...                               ...                           ...   \n",
       "70334                           46.16                         82.60   \n",
       "70335                           46.64                         82.60   \n",
       "70336                           61.98                         82.60   \n",
       "70337                           47.42                         82.60   \n",
       "70338                           39.52                         82.60   \n",
       "\n",
       "                FechaHora Hora  \n",
       "12153 2017-04-16 22:50:00   22  \n",
       "12154 2017-04-16 23:00:00   23  \n",
       "12155 2017-04-16 23:10:00   23  \n",
       "12156 2017-04-16 23:20:00   23  \n",
       "12157 2017-04-16 23:30:00   23  \n",
       "...                   ...  ...  \n",
       "70334 2018-09-21 11:20:00   11  \n",
       "70335 2018-09-21 11:30:00   11  \n",
       "70336 2018-09-21 11:40:00   11  \n",
       "70337 2018-09-21 11:50:00   11  \n",
       "70338 2018-09-21 12:00:00   12  \n",
       "\n",
       "[161 rows x 8 columns]"
      ]
     },
     "metadata": {},
     "output_type": "display_data"
    }
   ],
   "source": [
    "df_event_5_a_6_hours = df[(df['Duración'] >= 5) & (df['Duración'] <= 6) ]\n",
    "display(df_event_5_a_6_hours )"
   ]
  },
  {
   "cell_type": "markdown",
   "id": "be61833b",
   "metadata": {},
   "source": [
    "## Cálculo precipitación  por horas."
   ]
  },
  {
   "cell_type": "code",
   "execution_count": 101,
   "id": "8b54cf6d",
   "metadata": {},
   "outputs": [
    {
     "data": {
      "text/html": [
       "<div>\n",
       "<style scoped>\n",
       "    .dataframe tbody tr th:only-of-type {\n",
       "        vertical-align: middle;\n",
       "    }\n",
       "\n",
       "    .dataframe tbody tr th {\n",
       "        vertical-align: top;\n",
       "    }\n",
       "\n",
       "    .dataframe thead th {\n",
       "        text-align: right;\n",
       "    }\n",
       "</style>\n",
       "<table border=\"1\" class=\"dataframe\">\n",
       "  <thead>\n",
       "    <tr style=\"text-align: right;\">\n",
       "      <th></th>\n",
       "      <th>Hora</th>\n",
       "      <th>Valor</th>\n",
       "    </tr>\n",
       "  </thead>\n",
       "  <tbody>\n",
       "    <tr>\n",
       "      <th>0</th>\n",
       "      <td>12</td>\n",
       "      <td>2.4</td>\n",
       "    </tr>\n",
       "    <tr>\n",
       "      <th>1</th>\n",
       "      <td>13</td>\n",
       "      <td>15.0</td>\n",
       "    </tr>\n",
       "    <tr>\n",
       "      <th>2</th>\n",
       "      <td>14</td>\n",
       "      <td>2.8</td>\n",
       "    </tr>\n",
       "    <tr>\n",
       "      <th>3</th>\n",
       "      <td>15</td>\n",
       "      <td>1.4</td>\n",
       "    </tr>\n",
       "    <tr>\n",
       "      <th>4</th>\n",
       "      <td>16</td>\n",
       "      <td>1.1</td>\n",
       "    </tr>\n",
       "    <tr>\n",
       "      <th>5</th>\n",
       "      <td>17</td>\n",
       "      <td>0.7</td>\n",
       "    </tr>\n",
       "  </tbody>\n",
       "</table>\n",
       "</div>"
      ],
      "text/plain": [
       "  Hora  Valor\n",
       "0   12    2.4\n",
       "1   13   15.0\n",
       "2   14    2.8\n",
       "3   15    1.4\n",
       "4   16    1.1\n",
       "5   17    0.7"
      ]
     },
     "metadata": {},
     "output_type": "display_data"
    }
   ],
   "source": [
    "df3 = df_event_5_a_6_hours.groupby(['Hora'])['Valor'].sum().reset_index()\n",
    "display(df3)"
   ]
  },
  {
   "cell_type": "markdown",
   "id": "a8f72492",
   "metadata": {},
   "source": [
    "## Cálculo de la máxima precipitación por eventos con duracción mayor a 5 y menor a 6 horas "
   ]
  },
  {
   "cell_type": "code",
   "execution_count": 102,
   "id": "3da29c14",
   "metadata": {},
   "outputs": [
    {
     "data": {
      "text/plain": [
       "np.float64(0.7000000000000001)"
      ]
     },
     "metadata": {},
     "output_type": "display_data"
    },
    {
     "data": {
      "text/plain": [
       "np.float64(15.0)"
      ]
     },
     "metadata": {},
     "output_type": "display_data"
    }
   ],
   "source": [
    "min_duration= df3['Valor'].min()\n",
    "max_duration = df3['Valor'].max()\n",
    "display(min_duration,max_duration)"
   ]
  },
  {
   "cell_type": "code",
   "execution_count": 103,
   "id": "edb882d4",
   "metadata": {},
   "outputs": [],
   "source": [
    "def calculeValueH(valor):\n",
    "    return valor / max_duration\n"
   ]
  },
  {
   "cell_type": "code",
   "execution_count": 104,
   "id": "8b7b51e5",
   "metadata": {},
   "outputs": [
    {
     "data": {
      "text/html": [
       "<div>\n",
       "<style scoped>\n",
       "    .dataframe tbody tr th:only-of-type {\n",
       "        vertical-align: middle;\n",
       "    }\n",
       "\n",
       "    .dataframe tbody tr th {\n",
       "        vertical-align: top;\n",
       "    }\n",
       "\n",
       "    .dataframe thead th {\n",
       "        text-align: right;\n",
       "    }\n",
       "</style>\n",
       "<table border=\"1\" class=\"dataframe\">\n",
       "  <thead>\n",
       "    <tr style=\"text-align: right;\">\n",
       "      <th></th>\n",
       "      <th>Hora</th>\n",
       "      <th>Valor</th>\n",
       "      <th>valor/ValorMax</th>\n",
       "      <th>HoraFloat</th>\n",
       "    </tr>\n",
       "  </thead>\n",
       "  <tbody>\n",
       "    <tr>\n",
       "      <th>0</th>\n",
       "      <td>12</td>\n",
       "      <td>2.4</td>\n",
       "      <td>0.160000</td>\n",
       "      <td>12.0</td>\n",
       "    </tr>\n",
       "    <tr>\n",
       "      <th>1</th>\n",
       "      <td>13</td>\n",
       "      <td>15.0</td>\n",
       "      <td>1.000000</td>\n",
       "      <td>13.0</td>\n",
       "    </tr>\n",
       "    <tr>\n",
       "      <th>2</th>\n",
       "      <td>14</td>\n",
       "      <td>2.8</td>\n",
       "      <td>0.186667</td>\n",
       "      <td>14.0</td>\n",
       "    </tr>\n",
       "    <tr>\n",
       "      <th>3</th>\n",
       "      <td>15</td>\n",
       "      <td>1.4</td>\n",
       "      <td>0.093333</td>\n",
       "      <td>15.0</td>\n",
       "    </tr>\n",
       "    <tr>\n",
       "      <th>4</th>\n",
       "      <td>16</td>\n",
       "      <td>1.1</td>\n",
       "      <td>0.073333</td>\n",
       "      <td>16.0</td>\n",
       "    </tr>\n",
       "    <tr>\n",
       "      <th>5</th>\n",
       "      <td>17</td>\n",
       "      <td>0.7</td>\n",
       "      <td>0.046667</td>\n",
       "      <td>17.0</td>\n",
       "    </tr>\n",
       "  </tbody>\n",
       "</table>\n",
       "</div>"
      ],
      "text/plain": [
       "  Hora  Valor  valor/ValorMax  HoraFloat\n",
       "0   12    2.4        0.160000       12.0\n",
       "1   13   15.0        1.000000       13.0\n",
       "2   14    2.8        0.186667       14.0\n",
       "3   15    1.4        0.093333       15.0\n",
       "4   16    1.1        0.073333       16.0\n",
       "5   17    0.7        0.046667       17.0"
      ]
     },
     "metadata": {},
     "output_type": "display_data"
    }
   ],
   "source": [
    "df3['valor/ValorMax'] = df3['Valor'].apply(calculeValueH)\n",
    "df3['HoraFloat'] = df3['Hora'].astype(float)\n",
    "display(df3)"
   ]
  },
  {
   "cell_type": "markdown",
   "id": "68b67178",
   "metadata": {},
   "source": [
    "## Curva HUFF no suavisada"
   ]
  },
  {
   "cell_type": "code",
   "execution_count": 105,
   "id": "4e53aed4",
   "metadata": {},
   "outputs": [
    {
     "data": {
      "text/plain": [
       "[<matplotlib.lines.Line2D at 0x1fa087fce10>]"
      ]
     },
     "execution_count": 105,
     "metadata": {},
     "output_type": "execute_result"
    },
    {
     "data": {
      "image/png": "[encoded data removed]",
      "text/plain": [
       "<Figure size 640x480 with 1 Axes>"
      ]
     },
     "metadata": {},
     "output_type": "display_data"
    }
   ],
   "source": [
    "plt.plot(df3['Hora'],df3['valor/ValorMax'], linestyle='solid')  # fallback"
   ]
  },
  {
   "cell_type": "code",
   "execution_count": 106,
   "id": "55e2516a",
   "metadata": {},
   "outputs": [
    {
     "data": {
      "text/plain": [
       "[<matplotlib.lines.Line2D at 0x1fa087cf110>]"
      ]
     },
     "execution_count": 106,
     "metadata": {},
     "output_type": "execute_result"
    },
    {
     "data": {
      "image/png": "[encoded data removed]",
      "text/plain": [
       "<Figure size 640x480 with 1 Axes>"
      ]
     },
     "metadata": {},
     "output_type": "display_data"
    }
   ],
   "source": [
    "plt.plot(df3.index,df3['valor/ValorMax'], linestyle='solid')  # fallback"
   ]
  },
  {
   "cell_type": "markdown",
   "id": "a0df2710",
   "metadata": {},
   "source": [
    "## Curva Huff suavida por interpolación"
   ]
  },
  {
   "cell_type": "code",
   "execution_count": 107,
   "id": "f5f29e88",
   "metadata": {},
   "outputs": [
    {
     "data": {
      "text/plain": [
       "[<matplotlib.lines.Line2D at 0x1fa008cd590>]"
      ]
     },
     "execution_count": 107,
     "metadata": {},
     "output_type": "execute_result"
    },
    {
     "data": {
      "image/png": "[encoded data removed]",
      "text/plain": [
       "<Figure size 640x480 with 1 Axes>"
      ]
     },
     "metadata": {},
     "output_type": "display_data"
    }
   ],
   "source": [
    "spline = make_interp_spline(df3.index, df3['valor/ValorMax'], k=3)  # k=3 para splines cúbicos\n",
    "x_suave = np.linspace(df3.index.min(), df3.index.max(), 500)\n",
    "y_suave = spline(x_suave)\n",
    "plt.plot(df3.index, df3['valor/ValorMax'], 'o', label='Datos originales')\n",
    "plt.plot(x_suave, y_suave, label='Curva suavizada')"
   ]
  }
 ],
 "metadata": {
  "kernelspec": {
   "display_name": ".venv",
   "language": "python",
   "name": "python3"
  },
  "language_info": {
   "codemirror_mode": {
    "name": "ipython",
    "version": 3
   },
   "file_extension": ".py",
   "mimetype": "text/x-python",
   "name": "python",
   "nbconvert_exporter": "python",
   "pygments_lexer": "ipython3",
   "version": "3.13.1"
  }
 },
 "nbformat": 4,
 "nbformat_minor": 5
}
